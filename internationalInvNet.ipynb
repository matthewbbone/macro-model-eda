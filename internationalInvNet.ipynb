{
 "cells": [
  {
   "cell_type": "code",
   "execution_count": 87,
   "metadata": {},
   "outputs": [],
   "source": [
    "import numpy as np\n",
    "from sklearn.preprocessing import normalize\n",
    "import plotly.express as px\n",
    "import matplotlib.pyplot as plt\n",
    "import pandas as pd\n",
    "from tqdm import tqdm\n",
    "import warnings\n",
    "# warnings.filterwarnings(\"ignore\")"
   ]
  },
  {
   "cell_type": "code",
   "execution_count": 88,
   "metadata": {},
   "outputs": [],
   "source": [
    "A = np.array([\n",
    "    [.1, .2, .05, .8, .9, .7, .5, .4, .45],\n",
    "    [.5, .45, .55, .1, .05, .1, .1, .2, .15],\n",
    "    [.4, .35, .4, .1, .05, .2, .4, .4, .4]\n",
    "])\n",
    "\n",
    "C = np.array([\n",
    "    [1000, 0, 0],\n",
    "    [500, 0, 0],\n",
    "    [2000, 0, 0],\n",
    "    [0, 500, 0],\n",
    "    [0, 400, 0],\n",
    "    [0, 5000, 0],\n",
    "    [0, 0, 1000],\n",
    "    [0, 0, 100],\n",
    "    [0, 0, 500]\n",
    "])"
   ]
  },
  {
   "attachments": {},
   "cell_type": "markdown",
   "metadata": {},
   "source": [
    "## Original Matrix"
   ]
  },
  {
   "cell_type": "code",
   "execution_count": 89,
   "metadata": {},
   "outputs": [
    {
     "data": {
      "application/vnd.plotly.v1+json": {
       "config": {
        "plotlyServerURL": "https://plot.ly"
       },
       "data": [
        {
         "coloraxis": "coloraxis",
         "hovertemplate": "x: %{x}<br>y: %{y}<br>color: %{z}<extra></extra>",
         "name": "0",
         "type": "heatmap",
         "xaxis": "x",
         "yaxis": "y",
         "z": [
          [
           0.1,
           0.2,
           0.05,
           0.8,
           0.9,
           0.7,
           0.5,
           0.4,
           0.45
          ],
          [
           0.5,
           0.45,
           0.55,
           0.1,
           0.05,
           0.1,
           0.1,
           0.2,
           0.15
          ],
          [
           0.4,
           0.35,
           0.4,
           0.1,
           0.05,
           0.2,
           0.4,
           0.4,
           0.4
          ]
         ]
        }
       ],
       "layout": {
        "coloraxis": {
         "colorscale": [
          [
           0,
           "#0d0887"
          ],
          [
           0.1111111111111111,
           "#46039f"
          ],
          [
           0.2222222222222222,
           "#7201a8"
          ],
          [
           0.3333333333333333,
           "#9c179e"
          ],
          [
           0.4444444444444444,
           "#bd3786"
          ],
          [
           0.5555555555555556,
           "#d8576b"
          ],
          [
           0.6666666666666666,
           "#ed7953"
          ],
          [
           0.7777777777777778,
           "#fb9f3a"
          ],
          [
           0.8888888888888888,
           "#fdca26"
          ],
          [
           1,
           "#f0f921"
          ]
         ]
        },
        "margin": {
         "t": 60
        },
        "template": {
         "data": {
          "bar": [
           {
            "error_x": {
             "color": "#2a3f5f"
            },
            "error_y": {
             "color": "#2a3f5f"
            },
            "marker": {
             "line": {
              "color": "#E5ECF6",
              "width": 0.5
             },
             "pattern": {
              "fillmode": "overlay",
              "size": 10,
              "solidity": 0.2
             }
            },
            "type": "bar"
           }
          ],
          "barpolar": [
           {
            "marker": {
             "line": {
              "color": "#E5ECF6",
              "width": 0.5
             },
             "pattern": {
              "fillmode": "overlay",
              "size": 10,
              "solidity": 0.2
             }
            },
            "type": "barpolar"
           }
          ],
          "carpet": [
           {
            "aaxis": {
             "endlinecolor": "#2a3f5f",
             "gridcolor": "white",
             "linecolor": "white",
             "minorgridcolor": "white",
             "startlinecolor": "#2a3f5f"
            },
            "baxis": {
             "endlinecolor": "#2a3f5f",
             "gridcolor": "white",
             "linecolor": "white",
             "minorgridcolor": "white",
             "startlinecolor": "#2a3f5f"
            },
            "type": "carpet"
           }
          ],
          "choropleth": [
           {
            "colorbar": {
             "outlinewidth": 0,
             "ticks": ""
            },
            "type": "choropleth"
           }
          ],
          "contour": [
           {
            "colorbar": {
             "outlinewidth": 0,
             "ticks": ""
            },
            "colorscale": [
             [
              0,
              "#0d0887"
             ],
             [
              0.1111111111111111,
              "#46039f"
             ],
             [
              0.2222222222222222,
              "#7201a8"
             ],
             [
              0.3333333333333333,
              "#9c179e"
             ],
             [
              0.4444444444444444,
              "#bd3786"
             ],
             [
              0.5555555555555556,
              "#d8576b"
             ],
             [
              0.6666666666666666,
              "#ed7953"
             ],
             [
              0.7777777777777778,
              "#fb9f3a"
             ],
             [
              0.8888888888888888,
              "#fdca26"
             ],
             [
              1,
              "#f0f921"
             ]
            ],
            "type": "contour"
           }
          ],
          "contourcarpet": [
           {
            "colorbar": {
             "outlinewidth": 0,
             "ticks": ""
            },
            "type": "contourcarpet"
           }
          ],
          "heatmap": [
           {
            "colorbar": {
             "outlinewidth": 0,
             "ticks": ""
            },
            "colorscale": [
             [
              0,
              "#0d0887"
             ],
             [
              0.1111111111111111,
              "#46039f"
             ],
             [
              0.2222222222222222,
              "#7201a8"
             ],
             [
              0.3333333333333333,
              "#9c179e"
             ],
             [
              0.4444444444444444,
              "#bd3786"
             ],
             [
              0.5555555555555556,
              "#d8576b"
             ],
             [
              0.6666666666666666,
              "#ed7953"
             ],
             [
              0.7777777777777778,
              "#fb9f3a"
             ],
             [
              0.8888888888888888,
              "#fdca26"
             ],
             [
              1,
              "#f0f921"
             ]
            ],
            "type": "heatmap"
           }
          ],
          "heatmapgl": [
           {
            "colorbar": {
             "outlinewidth": 0,
             "ticks": ""
            },
            "colorscale": [
             [
              0,
              "#0d0887"
             ],
             [
              0.1111111111111111,
              "#46039f"
             ],
             [
              0.2222222222222222,
              "#7201a8"
             ],
             [
              0.3333333333333333,
              "#9c179e"
             ],
             [
              0.4444444444444444,
              "#bd3786"
             ],
             [
              0.5555555555555556,
              "#d8576b"
             ],
             [
              0.6666666666666666,
              "#ed7953"
             ],
             [
              0.7777777777777778,
              "#fb9f3a"
             ],
             [
              0.8888888888888888,
              "#fdca26"
             ],
             [
              1,
              "#f0f921"
             ]
            ],
            "type": "heatmapgl"
           }
          ],
          "histogram": [
           {
            "marker": {
             "pattern": {
              "fillmode": "overlay",
              "size": 10,
              "solidity": 0.2
             }
            },
            "type": "histogram"
           }
          ],
          "histogram2d": [
           {
            "colorbar": {
             "outlinewidth": 0,
             "ticks": ""
            },
            "colorscale": [
             [
              0,
              "#0d0887"
             ],
             [
              0.1111111111111111,
              "#46039f"
             ],
             [
              0.2222222222222222,
              "#7201a8"
             ],
             [
              0.3333333333333333,
              "#9c179e"
             ],
             [
              0.4444444444444444,
              "#bd3786"
             ],
             [
              0.5555555555555556,
              "#d8576b"
             ],
             [
              0.6666666666666666,
              "#ed7953"
             ],
             [
              0.7777777777777778,
              "#fb9f3a"
             ],
             [
              0.8888888888888888,
              "#fdca26"
             ],
             [
              1,
              "#f0f921"
             ]
            ],
            "type": "histogram2d"
           }
          ],
          "histogram2dcontour": [
           {
            "colorbar": {
             "outlinewidth": 0,
             "ticks": ""
            },
            "colorscale": [
             [
              0,
              "#0d0887"
             ],
             [
              0.1111111111111111,
              "#46039f"
             ],
             [
              0.2222222222222222,
              "#7201a8"
             ],
             [
              0.3333333333333333,
              "#9c179e"
             ],
             [
              0.4444444444444444,
              "#bd3786"
             ],
             [
              0.5555555555555556,
              "#d8576b"
             ],
             [
              0.6666666666666666,
              "#ed7953"
             ],
             [
              0.7777777777777778,
              "#fb9f3a"
             ],
             [
              0.8888888888888888,
              "#fdca26"
             ],
             [
              1,
              "#f0f921"
             ]
            ],
            "type": "histogram2dcontour"
           }
          ],
          "mesh3d": [
           {
            "colorbar": {
             "outlinewidth": 0,
             "ticks": ""
            },
            "type": "mesh3d"
           }
          ],
          "parcoords": [
           {
            "line": {
             "colorbar": {
              "outlinewidth": 0,
              "ticks": ""
             }
            },
            "type": "parcoords"
           }
          ],
          "pie": [
           {
            "automargin": true,
            "type": "pie"
           }
          ],
          "scatter": [
           {
            "fillpattern": {
             "fillmode": "overlay",
             "size": 10,
             "solidity": 0.2
            },
            "type": "scatter"
           }
          ],
          "scatter3d": [
           {
            "line": {
             "colorbar": {
              "outlinewidth": 0,
              "ticks": ""
             }
            },
            "marker": {
             "colorbar": {
              "outlinewidth": 0,
              "ticks": ""
             }
            },
            "type": "scatter3d"
           }
          ],
          "scattercarpet": [
           {
            "marker": {
             "colorbar": {
              "outlinewidth": 0,
              "ticks": ""
             }
            },
            "type": "scattercarpet"
           }
          ],
          "scattergeo": [
           {
            "marker": {
             "colorbar": {
              "outlinewidth": 0,
              "ticks": ""
             }
            },
            "type": "scattergeo"
           }
          ],
          "scattergl": [
           {
            "marker": {
             "colorbar": {
              "outlinewidth": 0,
              "ticks": ""
             }
            },
            "type": "scattergl"
           }
          ],
          "scattermapbox": [
           {
            "marker": {
             "colorbar": {
              "outlinewidth": 0,
              "ticks": ""
             }
            },
            "type": "scattermapbox"
           }
          ],
          "scatterpolar": [
           {
            "marker": {
             "colorbar": {
              "outlinewidth": 0,
              "ticks": ""
             }
            },
            "type": "scatterpolar"
           }
          ],
          "scatterpolargl": [
           {
            "marker": {
             "colorbar": {
              "outlinewidth": 0,
              "ticks": ""
             }
            },
            "type": "scatterpolargl"
           }
          ],
          "scatterternary": [
           {
            "marker": {
             "colorbar": {
              "outlinewidth": 0,
              "ticks": ""
             }
            },
            "type": "scatterternary"
           }
          ],
          "surface": [
           {
            "colorbar": {
             "outlinewidth": 0,
             "ticks": ""
            },
            "colorscale": [
             [
              0,
              "#0d0887"
             ],
             [
              0.1111111111111111,
              "#46039f"
             ],
             [
              0.2222222222222222,
              "#7201a8"
             ],
             [
              0.3333333333333333,
              "#9c179e"
             ],
             [
              0.4444444444444444,
              "#bd3786"
             ],
             [
              0.5555555555555556,
              "#d8576b"
             ],
             [
              0.6666666666666666,
              "#ed7953"
             ],
             [
              0.7777777777777778,
              "#fb9f3a"
             ],
             [
              0.8888888888888888,
              "#fdca26"
             ],
             [
              1,
              "#f0f921"
             ]
            ],
            "type": "surface"
           }
          ],
          "table": [
           {
            "cells": {
             "fill": {
              "color": "#EBF0F8"
             },
             "line": {
              "color": "white"
             }
            },
            "header": {
             "fill": {
              "color": "#C8D4E3"
             },
             "line": {
              "color": "white"
             }
            },
            "type": "table"
           }
          ]
         },
         "layout": {
          "annotationdefaults": {
           "arrowcolor": "#2a3f5f",
           "arrowhead": 0,
           "arrowwidth": 1
          },
          "autotypenumbers": "strict",
          "coloraxis": {
           "colorbar": {
            "outlinewidth": 0,
            "ticks": ""
           }
          },
          "colorscale": {
           "diverging": [
            [
             0,
             "#8e0152"
            ],
            [
             0.1,
             "#c51b7d"
            ],
            [
             0.2,
             "#de77ae"
            ],
            [
             0.3,
             "#f1b6da"
            ],
            [
             0.4,
             "#fde0ef"
            ],
            [
             0.5,
             "#f7f7f7"
            ],
            [
             0.6,
             "#e6f5d0"
            ],
            [
             0.7,
             "#b8e186"
            ],
            [
             0.8,
             "#7fbc41"
            ],
            [
             0.9,
             "#4d9221"
            ],
            [
             1,
             "#276419"
            ]
           ],
           "sequential": [
            [
             0,
             "#0d0887"
            ],
            [
             0.1111111111111111,
             "#46039f"
            ],
            [
             0.2222222222222222,
             "#7201a8"
            ],
            [
             0.3333333333333333,
             "#9c179e"
            ],
            [
             0.4444444444444444,
             "#bd3786"
            ],
            [
             0.5555555555555556,
             "#d8576b"
            ],
            [
             0.6666666666666666,
             "#ed7953"
            ],
            [
             0.7777777777777778,
             "#fb9f3a"
            ],
            [
             0.8888888888888888,
             "#fdca26"
            ],
            [
             1,
             "#f0f921"
            ]
           ],
           "sequentialminus": [
            [
             0,
             "#0d0887"
            ],
            [
             0.1111111111111111,
             "#46039f"
            ],
            [
             0.2222222222222222,
             "#7201a8"
            ],
            [
             0.3333333333333333,
             "#9c179e"
            ],
            [
             0.4444444444444444,
             "#bd3786"
            ],
            [
             0.5555555555555556,
             "#d8576b"
            ],
            [
             0.6666666666666666,
             "#ed7953"
            ],
            [
             0.7777777777777778,
             "#fb9f3a"
            ],
            [
             0.8888888888888888,
             "#fdca26"
            ],
            [
             1,
             "#f0f921"
            ]
           ]
          },
          "colorway": [
           "#636efa",
           "#EF553B",
           "#00cc96",
           "#ab63fa",
           "#FFA15A",
           "#19d3f3",
           "#FF6692",
           "#B6E880",
           "#FF97FF",
           "#FECB52"
          ],
          "font": {
           "color": "#2a3f5f"
          },
          "geo": {
           "bgcolor": "white",
           "lakecolor": "white",
           "landcolor": "#E5ECF6",
           "showlakes": true,
           "showland": true,
           "subunitcolor": "white"
          },
          "hoverlabel": {
           "align": "left"
          },
          "hovermode": "closest",
          "mapbox": {
           "style": "light"
          },
          "paper_bgcolor": "white",
          "plot_bgcolor": "#E5ECF6",
          "polar": {
           "angularaxis": {
            "gridcolor": "white",
            "linecolor": "white",
            "ticks": ""
           },
           "bgcolor": "#E5ECF6",
           "radialaxis": {
            "gridcolor": "white",
            "linecolor": "white",
            "ticks": ""
           }
          },
          "scene": {
           "xaxis": {
            "backgroundcolor": "#E5ECF6",
            "gridcolor": "white",
            "gridwidth": 2,
            "linecolor": "white",
            "showbackground": true,
            "ticks": "",
            "zerolinecolor": "white"
           },
           "yaxis": {
            "backgroundcolor": "#E5ECF6",
            "gridcolor": "white",
            "gridwidth": 2,
            "linecolor": "white",
            "showbackground": true,
            "ticks": "",
            "zerolinecolor": "white"
           },
           "zaxis": {
            "backgroundcolor": "#E5ECF6",
            "gridcolor": "white",
            "gridwidth": 2,
            "linecolor": "white",
            "showbackground": true,
            "ticks": "",
            "zerolinecolor": "white"
           }
          },
          "shapedefaults": {
           "line": {
            "color": "#2a3f5f"
           }
          },
          "ternary": {
           "aaxis": {
            "gridcolor": "white",
            "linecolor": "white",
            "ticks": ""
           },
           "baxis": {
            "gridcolor": "white",
            "linecolor": "white",
            "ticks": ""
           },
           "bgcolor": "#E5ECF6",
           "caxis": {
            "gridcolor": "white",
            "linecolor": "white",
            "ticks": ""
           }
          },
          "title": {
           "x": 0.05
          },
          "xaxis": {
           "automargin": true,
           "gridcolor": "white",
           "linecolor": "white",
           "ticks": "",
           "title": {
            "standoff": 15
           },
           "zerolinecolor": "white",
           "zerolinewidth": 2
          },
          "yaxis": {
           "automargin": true,
           "gridcolor": "white",
           "linecolor": "white",
           "ticks": "",
           "title": {
            "standoff": 15
           },
           "zerolinecolor": "white",
           "zerolinewidth": 2
          }
         }
        },
        "width": 500,
        "xaxis": {
         "anchor": "y",
         "constrain": "domain",
         "domain": [
          0,
          1
         ],
         "scaleanchor": "y"
        },
        "yaxis": {
         "anchor": "x",
         "autorange": "reversed",
         "constrain": "domain",
         "domain": [
          0,
          1
         ]
        }
       }
      }
     },
     "metadata": {},
     "output_type": "display_data"
    }
   ],
   "source": [
    "px.imshow(A, width=500)"
   ]
  },
  {
   "attachments": {},
   "cell_type": "markdown",
   "metadata": {},
   "source": [
    "## Matrix Multiplication\n",
    "\n",
    "$$I = (C\\quad\\emptyset\\quad\\hat{j}C)A$$"
   ]
  },
  {
   "cell_type": "code",
   "execution_count": 90,
   "metadata": {},
   "outputs": [
    {
     "data": {
      "application/vnd.plotly.v1+json": {
       "config": {
        "plotlyServerURL": "https://plot.ly"
       },
       "data": [
        {
         "coloraxis": "coloraxis",
         "hovertemplate": "x: %{x}<br>y: %{y}<br>color: %{z}<extra></extra>",
         "name": "0",
         "type": "heatmap",
         "xaxis": "x",
         "yaxis": "y",
         "z": [
          [
           0.02857142857142857,
           0.05714285714285714,
           0.014285714285714285,
           0.22857142857142856,
           0.2571428571428571,
           0.19999999999999998,
           0.14285714285714285,
           0.11428571428571428,
           0.12857142857142856
          ],
          [
           0.014285714285714285,
           0.02857142857142857,
           0.007142857142857143,
           0.11428571428571428,
           0.12857142857142856,
           0.09999999999999999,
           0.07142857142857142,
           0.05714285714285714,
           0.06428571428571428
          ],
          [
           0.05714285714285714,
           0.11428571428571428,
           0.02857142857142857,
           0.45714285714285713,
           0.5142857142857142,
           0.39999999999999997,
           0.2857142857142857,
           0.22857142857142856,
           0.2571428571428571
          ],
          [
           0.0423728813559322,
           0.038135593220338986,
           0.046610169491525424,
           0.00847457627118644,
           0.00423728813559322,
           0.00847457627118644,
           0.00847457627118644,
           0.01694915254237288,
           0.01271186440677966
          ],
          [
           0.03389830508474576,
           0.030508474576271188,
           0.03728813559322034,
           0.006779661016949153,
           0.0033898305084745766,
           0.006779661016949153,
           0.006779661016949153,
           0.013559322033898306,
           0.010169491525423728
          ],
          [
           0.423728813559322,
           0.3813559322033898,
           0.46610169491525427,
           0.0847457627118644,
           0.0423728813559322,
           0.0847457627118644,
           0.0847457627118644,
           0.1694915254237288,
           0.1271186440677966
          ],
          [
           0.25,
           0.21875,
           0.25,
           0.0625,
           0.03125,
           0.125,
           0.25,
           0.25,
           0.25
          ],
          [
           0.025,
           0.021875,
           0.025,
           0.00625,
           0.003125,
           0.0125,
           0.025,
           0.025,
           0.025
          ],
          [
           0.125,
           0.109375,
           0.125,
           0.03125,
           0.015625,
           0.0625,
           0.125,
           0.125,
           0.125
          ]
         ]
        }
       ],
       "layout": {
        "coloraxis": {
         "colorscale": [
          [
           0,
           "#0d0887"
          ],
          [
           0.1111111111111111,
           "#46039f"
          ],
          [
           0.2222222222222222,
           "#7201a8"
          ],
          [
           0.3333333333333333,
           "#9c179e"
          ],
          [
           0.4444444444444444,
           "#bd3786"
          ],
          [
           0.5555555555555556,
           "#d8576b"
          ],
          [
           0.6666666666666666,
           "#ed7953"
          ],
          [
           0.7777777777777778,
           "#fb9f3a"
          ],
          [
           0.8888888888888888,
           "#fdca26"
          ],
          [
           1,
           "#f0f921"
          ]
         ]
        },
        "margin": {
         "t": 60
        },
        "template": {
         "data": {
          "bar": [
           {
            "error_x": {
             "color": "#2a3f5f"
            },
            "error_y": {
             "color": "#2a3f5f"
            },
            "marker": {
             "line": {
              "color": "#E5ECF6",
              "width": 0.5
             },
             "pattern": {
              "fillmode": "overlay",
              "size": 10,
              "solidity": 0.2
             }
            },
            "type": "bar"
           }
          ],
          "barpolar": [
           {
            "marker": {
             "line": {
              "color": "#E5ECF6",
              "width": 0.5
             },
             "pattern": {
              "fillmode": "overlay",
              "size": 10,
              "solidity": 0.2
             }
            },
            "type": "barpolar"
           }
          ],
          "carpet": [
           {
            "aaxis": {
             "endlinecolor": "#2a3f5f",
             "gridcolor": "white",
             "linecolor": "white",
             "minorgridcolor": "white",
             "startlinecolor": "#2a3f5f"
            },
            "baxis": {
             "endlinecolor": "#2a3f5f",
             "gridcolor": "white",
             "linecolor": "white",
             "minorgridcolor": "white",
             "startlinecolor": "#2a3f5f"
            },
            "type": "carpet"
           }
          ],
          "choropleth": [
           {
            "colorbar": {
             "outlinewidth": 0,
             "ticks": ""
            },
            "type": "choropleth"
           }
          ],
          "contour": [
           {
            "colorbar": {
             "outlinewidth": 0,
             "ticks": ""
            },
            "colorscale": [
             [
              0,
              "#0d0887"
             ],
             [
              0.1111111111111111,
              "#46039f"
             ],
             [
              0.2222222222222222,
              "#7201a8"
             ],
             [
              0.3333333333333333,
              "#9c179e"
             ],
             [
              0.4444444444444444,
              "#bd3786"
             ],
             [
              0.5555555555555556,
              "#d8576b"
             ],
             [
              0.6666666666666666,
              "#ed7953"
             ],
             [
              0.7777777777777778,
              "#fb9f3a"
             ],
             [
              0.8888888888888888,
              "#fdca26"
             ],
             [
              1,
              "#f0f921"
             ]
            ],
            "type": "contour"
           }
          ],
          "contourcarpet": [
           {
            "colorbar": {
             "outlinewidth": 0,
             "ticks": ""
            },
            "type": "contourcarpet"
           }
          ],
          "heatmap": [
           {
            "colorbar": {
             "outlinewidth": 0,
             "ticks": ""
            },
            "colorscale": [
             [
              0,
              "#0d0887"
             ],
             [
              0.1111111111111111,
              "#46039f"
             ],
             [
              0.2222222222222222,
              "#7201a8"
             ],
             [
              0.3333333333333333,
              "#9c179e"
             ],
             [
              0.4444444444444444,
              "#bd3786"
             ],
             [
              0.5555555555555556,
              "#d8576b"
             ],
             [
              0.6666666666666666,
              "#ed7953"
             ],
             [
              0.7777777777777778,
              "#fb9f3a"
             ],
             [
              0.8888888888888888,
              "#fdca26"
             ],
             [
              1,
              "#f0f921"
             ]
            ],
            "type": "heatmap"
           }
          ],
          "heatmapgl": [
           {
            "colorbar": {
             "outlinewidth": 0,
             "ticks": ""
            },
            "colorscale": [
             [
              0,
              "#0d0887"
             ],
             [
              0.1111111111111111,
              "#46039f"
             ],
             [
              0.2222222222222222,
              "#7201a8"
             ],
             [
              0.3333333333333333,
              "#9c179e"
             ],
             [
              0.4444444444444444,
              "#bd3786"
             ],
             [
              0.5555555555555556,
              "#d8576b"
             ],
             [
              0.6666666666666666,
              "#ed7953"
             ],
             [
              0.7777777777777778,
              "#fb9f3a"
             ],
             [
              0.8888888888888888,
              "#fdca26"
             ],
             [
              1,
              "#f0f921"
             ]
            ],
            "type": "heatmapgl"
           }
          ],
          "histogram": [
           {
            "marker": {
             "pattern": {
              "fillmode": "overlay",
              "size": 10,
              "solidity": 0.2
             }
            },
            "type": "histogram"
           }
          ],
          "histogram2d": [
           {
            "colorbar": {
             "outlinewidth": 0,
             "ticks": ""
            },
            "colorscale": [
             [
              0,
              "#0d0887"
             ],
             [
              0.1111111111111111,
              "#46039f"
             ],
             [
              0.2222222222222222,
              "#7201a8"
             ],
             [
              0.3333333333333333,
              "#9c179e"
             ],
             [
              0.4444444444444444,
              "#bd3786"
             ],
             [
              0.5555555555555556,
              "#d8576b"
             ],
             [
              0.6666666666666666,
              "#ed7953"
             ],
             [
              0.7777777777777778,
              "#fb9f3a"
             ],
             [
              0.8888888888888888,
              "#fdca26"
             ],
             [
              1,
              "#f0f921"
             ]
            ],
            "type": "histogram2d"
           }
          ],
          "histogram2dcontour": [
           {
            "colorbar": {
             "outlinewidth": 0,
             "ticks": ""
            },
            "colorscale": [
             [
              0,
              "#0d0887"
             ],
             [
              0.1111111111111111,
              "#46039f"
             ],
             [
              0.2222222222222222,
              "#7201a8"
             ],
             [
              0.3333333333333333,
              "#9c179e"
             ],
             [
              0.4444444444444444,
              "#bd3786"
             ],
             [
              0.5555555555555556,
              "#d8576b"
             ],
             [
              0.6666666666666666,
              "#ed7953"
             ],
             [
              0.7777777777777778,
              "#fb9f3a"
             ],
             [
              0.8888888888888888,
              "#fdca26"
             ],
             [
              1,
              "#f0f921"
             ]
            ],
            "type": "histogram2dcontour"
           }
          ],
          "mesh3d": [
           {
            "colorbar": {
             "outlinewidth": 0,
             "ticks": ""
            },
            "type": "mesh3d"
           }
          ],
          "parcoords": [
           {
            "line": {
             "colorbar": {
              "outlinewidth": 0,
              "ticks": ""
             }
            },
            "type": "parcoords"
           }
          ],
          "pie": [
           {
            "automargin": true,
            "type": "pie"
           }
          ],
          "scatter": [
           {
            "fillpattern": {
             "fillmode": "overlay",
             "size": 10,
             "solidity": 0.2
            },
            "type": "scatter"
           }
          ],
          "scatter3d": [
           {
            "line": {
             "colorbar": {
              "outlinewidth": 0,
              "ticks": ""
             }
            },
            "marker": {
             "colorbar": {
              "outlinewidth": 0,
              "ticks": ""
             }
            },
            "type": "scatter3d"
           }
          ],
          "scattercarpet": [
           {
            "marker": {
             "colorbar": {
              "outlinewidth": 0,
              "ticks": ""
             }
            },
            "type": "scattercarpet"
           }
          ],
          "scattergeo": [
           {
            "marker": {
             "colorbar": {
              "outlinewidth": 0,
              "ticks": ""
             }
            },
            "type": "scattergeo"
           }
          ],
          "scattergl": [
           {
            "marker": {
             "colorbar": {
              "outlinewidth": 0,
              "ticks": ""
             }
            },
            "type": "scattergl"
           }
          ],
          "scattermapbox": [
           {
            "marker": {
             "colorbar": {
              "outlinewidth": 0,
              "ticks": ""
             }
            },
            "type": "scattermapbox"
           }
          ],
          "scatterpolar": [
           {
            "marker": {
             "colorbar": {
              "outlinewidth": 0,
              "ticks": ""
             }
            },
            "type": "scatterpolar"
           }
          ],
          "scatterpolargl": [
           {
            "marker": {
             "colorbar": {
              "outlinewidth": 0,
              "ticks": ""
             }
            },
            "type": "scatterpolargl"
           }
          ],
          "scatterternary": [
           {
            "marker": {
             "colorbar": {
              "outlinewidth": 0,
              "ticks": ""
             }
            },
            "type": "scatterternary"
           }
          ],
          "surface": [
           {
            "colorbar": {
             "outlinewidth": 0,
             "ticks": ""
            },
            "colorscale": [
             [
              0,
              "#0d0887"
             ],
             [
              0.1111111111111111,
              "#46039f"
             ],
             [
              0.2222222222222222,
              "#7201a8"
             ],
             [
              0.3333333333333333,
              "#9c179e"
             ],
             [
              0.4444444444444444,
              "#bd3786"
             ],
             [
              0.5555555555555556,
              "#d8576b"
             ],
             [
              0.6666666666666666,
              "#ed7953"
             ],
             [
              0.7777777777777778,
              "#fb9f3a"
             ],
             [
              0.8888888888888888,
              "#fdca26"
             ],
             [
              1,
              "#f0f921"
             ]
            ],
            "type": "surface"
           }
          ],
          "table": [
           {
            "cells": {
             "fill": {
              "color": "#EBF0F8"
             },
             "line": {
              "color": "white"
             }
            },
            "header": {
             "fill": {
              "color": "#C8D4E3"
             },
             "line": {
              "color": "white"
             }
            },
            "type": "table"
           }
          ]
         },
         "layout": {
          "annotationdefaults": {
           "arrowcolor": "#2a3f5f",
           "arrowhead": 0,
           "arrowwidth": 1
          },
          "autotypenumbers": "strict",
          "coloraxis": {
           "colorbar": {
            "outlinewidth": 0,
            "ticks": ""
           }
          },
          "colorscale": {
           "diverging": [
            [
             0,
             "#8e0152"
            ],
            [
             0.1,
             "#c51b7d"
            ],
            [
             0.2,
             "#de77ae"
            ],
            [
             0.3,
             "#f1b6da"
            ],
            [
             0.4,
             "#fde0ef"
            ],
            [
             0.5,
             "#f7f7f7"
            ],
            [
             0.6,
             "#e6f5d0"
            ],
            [
             0.7,
             "#b8e186"
            ],
            [
             0.8,
             "#7fbc41"
            ],
            [
             0.9,
             "#4d9221"
            ],
            [
             1,
             "#276419"
            ]
           ],
           "sequential": [
            [
             0,
             "#0d0887"
            ],
            [
             0.1111111111111111,
             "#46039f"
            ],
            [
             0.2222222222222222,
             "#7201a8"
            ],
            [
             0.3333333333333333,
             "#9c179e"
            ],
            [
             0.4444444444444444,
             "#bd3786"
            ],
            [
             0.5555555555555556,
             "#d8576b"
            ],
            [
             0.6666666666666666,
             "#ed7953"
            ],
            [
             0.7777777777777778,
             "#fb9f3a"
            ],
            [
             0.8888888888888888,
             "#fdca26"
            ],
            [
             1,
             "#f0f921"
            ]
           ],
           "sequentialminus": [
            [
             0,
             "#0d0887"
            ],
            [
             0.1111111111111111,
             "#46039f"
            ],
            [
             0.2222222222222222,
             "#7201a8"
            ],
            [
             0.3333333333333333,
             "#9c179e"
            ],
            [
             0.4444444444444444,
             "#bd3786"
            ],
            [
             0.5555555555555556,
             "#d8576b"
            ],
            [
             0.6666666666666666,
             "#ed7953"
            ],
            [
             0.7777777777777778,
             "#fb9f3a"
            ],
            [
             0.8888888888888888,
             "#fdca26"
            ],
            [
             1,
             "#f0f921"
            ]
           ]
          },
          "colorway": [
           "#636efa",
           "#EF553B",
           "#00cc96",
           "#ab63fa",
           "#FFA15A",
           "#19d3f3",
           "#FF6692",
           "#B6E880",
           "#FF97FF",
           "#FECB52"
          ],
          "font": {
           "color": "#2a3f5f"
          },
          "geo": {
           "bgcolor": "white",
           "lakecolor": "white",
           "landcolor": "#E5ECF6",
           "showlakes": true,
           "showland": true,
           "subunitcolor": "white"
          },
          "hoverlabel": {
           "align": "left"
          },
          "hovermode": "closest",
          "mapbox": {
           "style": "light"
          },
          "paper_bgcolor": "white",
          "plot_bgcolor": "#E5ECF6",
          "polar": {
           "angularaxis": {
            "gridcolor": "white",
            "linecolor": "white",
            "ticks": ""
           },
           "bgcolor": "#E5ECF6",
           "radialaxis": {
            "gridcolor": "white",
            "linecolor": "white",
            "ticks": ""
           }
          },
          "scene": {
           "xaxis": {
            "backgroundcolor": "#E5ECF6",
            "gridcolor": "white",
            "gridwidth": 2,
            "linecolor": "white",
            "showbackground": true,
            "ticks": "",
            "zerolinecolor": "white"
           },
           "yaxis": {
            "backgroundcolor": "#E5ECF6",
            "gridcolor": "white",
            "gridwidth": 2,
            "linecolor": "white",
            "showbackground": true,
            "ticks": "",
            "zerolinecolor": "white"
           },
           "zaxis": {
            "backgroundcolor": "#E5ECF6",
            "gridcolor": "white",
            "gridwidth": 2,
            "linecolor": "white",
            "showbackground": true,
            "ticks": "",
            "zerolinecolor": "white"
           }
          },
          "shapedefaults": {
           "line": {
            "color": "#2a3f5f"
           }
          },
          "ternary": {
           "aaxis": {
            "gridcolor": "white",
            "linecolor": "white",
            "ticks": ""
           },
           "baxis": {
            "gridcolor": "white",
            "linecolor": "white",
            "ticks": ""
           },
           "bgcolor": "#E5ECF6",
           "caxis": {
            "gridcolor": "white",
            "linecolor": "white",
            "ticks": ""
           }
          },
          "title": {
           "x": 0.05
          },
          "xaxis": {
           "automargin": true,
           "gridcolor": "white",
           "linecolor": "white",
           "ticks": "",
           "title": {
            "standoff": 15
           },
           "zerolinecolor": "white",
           "zerolinewidth": 2
          },
          "yaxis": {
           "automargin": true,
           "gridcolor": "white",
           "linecolor": "white",
           "ticks": "",
           "title": {
            "standoff": 15
           },
           "zerolinecolor": "white",
           "zerolinewidth": 2
          }
         }
        },
        "width": 500,
        "xaxis": {
         "anchor": "y",
         "constrain": "domain",
         "domain": [
          0,
          1
         ],
         "scaleanchor": "y"
        },
        "yaxis": {
         "anchor": "x",
         "autorange": "reversed",
         "constrain": "domain",
         "domain": [
          0,
          1
         ]
        }
       }
      }
     },
     "metadata": {},
     "output_type": "display_data"
    }
   ],
   "source": [
    "C_norm = C / np.array([1 for _ in range(9)]).dot(C)\n",
    "I = C_norm.dot(A)\n",
    "px.imshow(I, width=500)"
   ]
  },
  {
   "attachments": {},
   "cell_type": "markdown",
   "metadata": {},
   "source": [
    "## Iterative Proportional Fitting\n",
    "\n",
    "Iterate these two steps on P [source](https://www.researchgate.net/publication/336917269_What_is_Iterative_Proportional_Fitting)\n",
    "\n",
    "$$(1)\\quad P_{ij(k+1)}=(\\frac{P_{ij(k)}}{\\sum_jP_{ij(k)}}) Q_i$$\n",
    "\n",
    "$$(2)\\quad P_{ij(k+2)}=(\\frac{P_{ij(k+1)}}{\\sum_iP_{ij(k+1)}}) Q_j$$"
   ]
  },
  {
   "cell_type": "code",
   "execution_count": 91,
   "metadata": {},
   "outputs": [],
   "source": [
    "SEEDER = np.array([\n",
    "    [1/3, 0, 0],\n",
    "    [1/3, 0, 0],\n",
    "    [1/3, 0, 0],\n",
    "    [0, 1/3, 0],\n",
    "    [0, 1/3, 0],\n",
    "    [0, 1/3, 0],\n",
    "    [0, 0, 1/3],\n",
    "    [0, 0, 1/3],\n",
    "    [0, 0, 1/3],\n",
    "])\n",
    "\n",
    "SEED = SEEDER.dot(A)\n",
    "capital_margin = C_norm.sum(axis=1)"
   ]
  },
  {
   "attachments": {},
   "cell_type": "markdown",
   "metadata": {},
   "source": [
    "The algorithm converges after one iteration because all of the column margins are already equal to the column sums in the SEED matrix. To get more value out of iterations, we would have to have country/sector total capital expenditure values that are considered more reliable."
   ]
  },
  {
   "cell_type": "code",
   "execution_count": 92,
   "metadata": {},
   "outputs": [
    {
     "data": {
      "text/plain": [
       "array([1., 1., 1., 1., 1., 1., 1., 1., 1.])"
      ]
     },
     "execution_count": 92,
     "metadata": {},
     "output_type": "execute_result"
    }
   ],
   "source": [
    "# column_margin = np.array([1 + np.random.normal(0,.1) for  _ in range(9)])\n",
    "column_margin = SEED.sum(axis=0)\n",
    "column_margin"
   ]
  },
  {
   "cell_type": "code",
   "execution_count": 93,
   "metadata": {},
   "outputs": [],
   "source": [
    "def iter_prop_fit(df, row_margin, col_margin, iters):\n",
    "\n",
    "    for iter in range(iters):\n",
    "\n",
    "        next_S1 = df.copy()\n",
    "        for i in range(df.shape[0]):\n",
    "            for j in range(df.shape[1]):\n",
    "                next_S1.iloc[i,j] = row_margin[i] * df.iloc[i,j] / (df.sum(axis=1, skipna=True)[i] + 1e-20)\n",
    "\n",
    "        next_S2 = next_S1.copy()\n",
    "        for i in range(df.shape[0]):\n",
    "            for j in range(df.shape[1]):\n",
    "                next_S2.iloc[i,j] = col_margin[j] * next_S1.iloc[i,j] / (next_S1.sum(axis=0,skipna=True)[j] + 1e-20)\n",
    "\n",
    "        df = next_S2.copy()\n",
    "        \n",
    "    return next_S2\n",
    "\n",
    "SEED = iter_prop_fit(pd.DataFrame(SEED), capital_margin, column_margin, 10)"
   ]
  },
  {
   "cell_type": "code",
   "execution_count": 94,
   "metadata": {},
   "outputs": [
    {
     "data": {
      "text/plain": [
       "Text(0.5, 1.0, 'Iterative Proportional')"
      ]
     },
     "execution_count": 94,
     "metadata": {},
     "output_type": "execute_result"
    },
    {
     "data": {
      "image/png": "[encoded data removed]",
      "text/plain": [
       "<Figure size 640x480 with 2 Axes>"
      ]
     },
     "metadata": {},
     "output_type": "display_data"
    }
   ],
   "source": [
    "fig, axes = plt.subplots(1,2)\n",
    "\n",
    "axes[0].imshow(I)\n",
    "axes[0].set_title(\"Matrix Multiplication\")\n",
    "axes[1].imshow(SEED)\n",
    "axes[1].set_title(\"Iterative Proportional\")"
   ]
  },
  {
   "attachments": {},
   "cell_type": "markdown",
   "metadata": {},
   "source": [
    "# ICIO Weighting"
   ]
  },
  {
   "cell_type": "code",
   "execution_count": 95,
   "metadata": {},
   "outputs": [],
   "source": [
    "icio_df = pd.read_csv('raw_data/ICIO2021_2014.csv', index_col=0)\n",
    "expend_df = pd.read_csv('raw_data/SNA_TABLE8A.csv')\n",
    "exchange_rates = pd.read_csv('raw_data/exchange_rates.csv', index_col=0)\n",
    "recipe_df = pd.read_csv(\"investment_recipe.csv\", index_col=0)\n",
    "\n",
    "# remoe postal/courier since no data\n",
    "recipe_df.drop(\"53\", axis=0, inplace=True)\n",
    "recipe_df.drop(\"53\", axis=1, inplace=True)\n",
    "\n",
    "# remove government since no data\n",
    "recipe_df.drop(\"84\", axis=0, inplace=True)\n",
    "recipe_df.drop(\"84\", axis=1, inplace=True)"
   ]
  },
  {
   "cell_type": "code",
   "execution_count": 96,
   "metadata": {},
   "outputs": [],
   "source": [
    "expend_df2 = expend_df[[\"LOCATION\", \"ACTIVITY\", \"TIME\", \"Value\"]][expend_df[\"TIME\"] == 2014]\n",
    "expend_df2.reset_index(inplace=True, drop=True)\n",
    "\n",
    "for i, row in expend_df2.iterrows():\n",
    "    expend_df2.iloc[i, 3] = row[\"Value\"] / exchange_rates.loc[row[\"LOCATION\"], \"2014\"]"
   ]
  },
  {
   "cell_type": "code",
   "execution_count": 97,
   "metadata": {},
   "outputs": [
    {
     "data": {
      "text/html": [
       "<div>\n",
       "<style scoped>\n",
       "    .dataframe tbody tr th:only-of-type {\n",
       "        vertical-align: middle;\n",
       "    }\n",
       "\n",
       "    .dataframe tbody tr th {\n",
       "        vertical-align: top;\n",
       "    }\n",
       "\n",
       "    .dataframe thead th {\n",
       "        text-align: right;\n",
       "    }\n",
       "</style>\n",
       "<table border=\"1\" class=\"dataframe\">\n",
       "  <thead>\n",
       "    <tr style=\"text-align: right;\">\n",
       "      <th></th>\n",
       "      <th>LOCATION</th>\n",
       "      <th>ACTIVITY</th>\n",
       "      <th>TIME</th>\n",
       "      <th>Value</th>\n",
       "    </tr>\n",
       "  </thead>\n",
       "  <tbody>\n",
       "    <tr>\n",
       "      <th>0</th>\n",
       "      <td>AUT</td>\n",
       "      <td>V22</td>\n",
       "      <td>2014</td>\n",
       "      <td>808.924303</td>\n",
       "    </tr>\n",
       "    <tr>\n",
       "      <th>1</th>\n",
       "      <td>CZE</td>\n",
       "      <td>V22</td>\n",
       "      <td>2014</td>\n",
       "      <td>860.969265</td>\n",
       "    </tr>\n",
       "    <tr>\n",
       "      <th>2</th>\n",
       "      <td>FIN</td>\n",
       "      <td>V22</td>\n",
       "      <td>2014</td>\n",
       "      <td>164.674635</td>\n",
       "    </tr>\n",
       "    <tr>\n",
       "      <th>3</th>\n",
       "      <td>ISL</td>\n",
       "      <td>V22</td>\n",
       "      <td>2014</td>\n",
       "      <td>1.795764</td>\n",
       "    </tr>\n",
       "    <tr>\n",
       "      <th>4</th>\n",
       "      <td>MEX</td>\n",
       "      <td>V22</td>\n",
       "      <td>2014</td>\n",
       "      <td>5.081929</td>\n",
       "    </tr>\n",
       "    <tr>\n",
       "      <th>...</th>\n",
       "      <td>...</td>\n",
       "      <td>...</td>\n",
       "      <td>...</td>\n",
       "      <td>...</td>\n",
       "    </tr>\n",
       "    <tr>\n",
       "      <th>2029</th>\n",
       "      <td>LVA</td>\n",
       "      <td>V07</td>\n",
       "      <td>2014</td>\n",
       "      <td>0.000000</td>\n",
       "    </tr>\n",
       "    <tr>\n",
       "      <th>2030</th>\n",
       "      <td>LVA</td>\n",
       "      <td>V08</td>\n",
       "      <td>2014</td>\n",
       "      <td>38.110226</td>\n",
       "    </tr>\n",
       "    <tr>\n",
       "      <th>2031</th>\n",
       "      <td>LVA</td>\n",
       "      <td>V08</td>\n",
       "      <td>2014</td>\n",
       "      <td>39.353254</td>\n",
       "    </tr>\n",
       "    <tr>\n",
       "      <th>2032</th>\n",
       "      <td>LVA</td>\n",
       "      <td>V09</td>\n",
       "      <td>2014</td>\n",
       "      <td>0.338645</td>\n",
       "    </tr>\n",
       "    <tr>\n",
       "      <th>2033</th>\n",
       "      <td>LVA</td>\n",
       "      <td>V09</td>\n",
       "      <td>2014</td>\n",
       "      <td>0.346614</td>\n",
       "    </tr>\n",
       "  </tbody>\n",
       "</table>\n",
       "<p>2034 rows × 4 columns</p>\n",
       "</div>"
      ],
      "text/plain": [
       "     LOCATION ACTIVITY  TIME       Value\n",
       "0         AUT      V22  2014  808.924303\n",
       "1         CZE      V22  2014  860.969265\n",
       "2         FIN      V22  2014  164.674635\n",
       "3         ISL      V22  2014    1.795764\n",
       "4         MEX      V22  2014    5.081929\n",
       "...       ...      ...   ...         ...\n",
       "2029      LVA      V07  2014    0.000000\n",
       "2030      LVA      V08  2014   38.110226\n",
       "2031      LVA      V08  2014   39.353254\n",
       "2032      LVA      V09  2014    0.338645\n",
       "2033      LVA      V09  2014    0.346614\n",
       "\n",
       "[2034 rows x 4 columns]"
      ]
     },
     "execution_count": 97,
     "metadata": {},
     "output_type": "execute_result"
    }
   ],
   "source": [
    "expend_df2"
   ]
  },
  {
   "cell_type": "code",
   "execution_count": 98,
   "metadata": {},
   "outputs": [],
   "source": [
    "activity_sector_map = {\n",
    "    '01T02': ['V01', 'V02'], \n",
    "    '03': ['V03'], \n",
    "    '05T06': ['V05', 'V06'], \n",
    "    '07T08': ['V07', 'V08'], \n",
    "    '09': ['V09'], \n",
    "    '10T12': ['V10_12'], \n",
    "    '13T15': ['V13_15'], \n",
    "    '16': ['V16'], \n",
    "    '17T18': ['V17', 'V18'], \n",
    "    '19': ['V19'], \n",
    "    '20': ['V20'], \n",
    "    '21': ['V21'], \n",
    "    '22': ['V22'],  \n",
    "    '23': ['V23'], \n",
    "    '24': ['V24'], \n",
    "    '25': ['V25'], \n",
    "    '26': ['V26'], \n",
    "    '27': ['V27'], \n",
    "    '28': ['V28'], \n",
    "    '29': ['V29'], \n",
    "    '30': ['V30'], \n",
    "    '31T33': ['V31_33'], \n",
    "    '35': [\"VD\"], \n",
    "    '36T39': [\"VE\"], \n",
    "    '41T43': [\"VF\"], \n",
    "    '45T47': [\"VG\"], \n",
    "    '49': [\"V49\"], \n",
    "    '50': [\"V50\"], \n",
    "    '51': [\"V51\"], \n",
    "    '52': [\"V52\"], \n",
    "    '53': [\"V53\"], \n",
    "    '55T56': [\"VI\"], \n",
    "    '58T60': [\"V58_60\"], \n",
    "    '61': [\"V61\"], \n",
    "    '62T63': [\"V62_63\"], \n",
    "    '64T66': [\"VK\"], \n",
    "    '68': [\"VL\"], \n",
    "    '69T75': [\"VM\"], \n",
    "    '77T82': [\"VN\"], \n",
    "    '84': [\"V0\"], \n",
    "    '85': [\"VP\"], \n",
    "    '86T88': [\"VQ\"], \n",
    "    '90T93': [\"VR\"], \n",
    "    '94T96': [\"VS\"]\n",
    "}"
   ]
  },
  {
   "cell_type": "code",
   "execution_count": 99,
   "metadata": {},
   "outputs": [],
   "source": [
    "rows = []\n",
    "\n",
    "for country in expend_df2[\"LOCATION\"].unique():\n",
    "    for key, vals in activity_sector_map.items():\n",
    "\n",
    "        vals = expend_df2.loc[\n",
    "            (expend_df2[\"LOCATION\"] == country)\n",
    "            & (expend_df2[\"ACTIVITY\"].map(lambda x: x in vals)), \n",
    "            \"Value\"\n",
    "        ]\n",
    "\n",
    "        if len(vals) == 0:\n",
    "            val = np.nan\n",
    "        else:\n",
    "            val = np.sum(vals)\n",
    "\n",
    "        rows.append({\n",
    "            \"cou\": country,\n",
    "            \"sec\": key,\n",
    "            \"val\": val\n",
    "        })\n",
    "\n",
    "expend_df3 = pd.DataFrame(rows)\n",
    "expend_df3.index = expend_df3[\"sec\"]"
   ]
  },
  {
   "attachments": {},
   "cell_type": "markdown",
   "metadata": {},
   "source": [
    "### Using Only ICIO Data\n",
    "\n",
    "$I$ is the international investment matrix where $al$ is the producing sector $l$ in country $a$ and $bm$ is the consuming sector $m$ in country $b$.\n",
    "\n",
    "$$I_{(al)(bm)}$$\n",
    "\n",
    "We have $P_{(al)b}$ from the ICIO, total production for each country/sector $al$ that is consumed by each country $b$, and we have $R_{lm}$, the intensive form of the inter sectoral investment recipe based on Vom-Lehn Winberry where $\\sum_{l,m}R_{lm}=1$. For each pair of countries $a_0$ and $b_0$, we use $P_{(al)b}$ to empirically weight $R_{lm}$. We do this by taking the sum of $P_{(a_0l)b_0}$ which is the total investment flows produced by $a_0$ and consumed by $b_0$.\n",
    "\n",
    "$$R_{l_0m_0}=R_{lm}\\sum_{l}{P_{(a_0 l)b_0}}$$\n",
    "\n",
    "This results in a sectoral investment matrix $R_{l_0m_0}$ between $a_0$ and $b_0$, where $l_0 \\subset l$ and $m_0\\subset m$ are the sectors corresponding to $a_0$ and $b_0$. This approach doesn't make use of the full granularity of the data since we're summing the total sectoral production for each pair of countries $P_{(al)b}$. When done for all pairs of countries, $a$ and $b$, we get an extensive international investment matrix $I_{(al)(bm)}$, such that each region corresponding to pairs of countries $a_0$ and $b_0$ sum to $\\sum_{l}{P_{(a_0 l)b_0}}$.\n",
    "\n",
    "Finally, to get the country/sector $bm$ investment distributions, we divide each column of $I_{(al)(bm)}$ by it's sum, so that the column sums are equal to 1."
   ]
  },
  {
   "cell_type": "code",
   "execution_count": 100,
   "metadata": {},
   "outputs": [],
   "source": [
    "gfcf_cols = icio_df.columns[icio_df.columns.map(lambda x: \"GFCF\" in x)]\n",
    "gfcf_df = icio_df[gfcf_cols]\n",
    "countries = gfcf_cols.map(lambda x: x.split(\"_\")[0])#[0:10]\n",
    "country_sectors = len(countries) * len(recipe_df)\n",
    "country_sector_names = []\n",
    "\n",
    "n_sec = len(recipe_df)\n",
    "\n",
    "for cou in countries:\n",
    "    for sec in recipe_df.columns:\n",
    "        country_sector_names.append(cou + \"_\" + sec)\n",
    "\n",
    "\n",
    "international_flows = np.zeros((len(countries), len(countries)))\n",
    "international_matrix = np.zeros((country_sectors, country_sectors))\n",
    "for i, i_cou in enumerate(countries):\n",
    "    for j, j_cou in enumerate(countries):\n",
    "\n",
    "        rows = gfcf_df.index.where(gfcf_df.index.map(lambda x: i_cou in x and not \"TAXSUB\" in x)).dropna()\n",
    "        cols = gfcf_df.columns.where(gfcf_cols.map(lambda x: j_cou in x and not \"TAXSUB\" in x)).dropna()\n",
    "\n",
    "        international_flows[i,j] = gfcf_df.loc[rows, cols].sum(axis=0,skipna=True).sum(axis=0,skipna=True)\n",
    "\n",
    "        international_matrix[i*n_sec:(i+1)*n_sec, j*n_sec:(j+1)*n_sec] = recipe_df.values * international_flows[i,j]\n",
    "    \n",
    "\n",
    "        # temp_recipe = recipe_df.copy()\n",
    "        # temp_recipe.index = recipe_df.index.map(lambda x: i_cou + \"_\" + x)\n",
    "\n",
    "        # marginal_production = gfcf_df.loc[rows, cols]\n",
    "        # marginal_production  = (marginal_production - marginal_production.min()) / (marginal_production.max() - marginal_production.min())\n",
    "\n",
    "        # temp_recipe = temp_recipe.join(marginal_production)\n",
    "\n",
    "        # for col in temp_recipe.columns[:-1]:\n",
    "        #     temp_recipe[col] = temp_recipe[col] * temp_recipe[temp_recipe.columns[-1]]\n",
    "\n",
    "        # del temp_recipe[temp_recipe.columns[-1]]\n",
    "\n",
    "        # maxi = temp_recipe.max().max()\n",
    "        # mini = temp_recipe.min().min()\n",
    "\n",
    "        # temp_recipe = (temp_recipe - mini) / (maxi - mini) * gfcf_df.loc[rows, cols].sum(axis=0,skipna=True).sum(axis=0,skipna=True)\n",
    "        \n",
    "        # international_matrix[i*len(recipe_df):(i+1)*len(recipe_df), j*len(recipe_df):(j+1)*len(recipe_df)] = temp_recipe.values\n"
   ]
  },
  {
   "cell_type": "code",
   "execution_count": 101,
   "metadata": {},
   "outputs": [
    {
     "name": "stderr",
     "output_type": "stream",
     "text": [
      "/var/folders/c5/1ykwfx953hdd7lps3nkt7myr0000gn/T/ipykernel_4278/2936976756.py:1: RuntimeWarning:\n",
      "\n",
      "divide by zero encountered in log\n",
      "\n"
     ]
    }
   ],
   "source": [
    "flows_df = pd.DataFrame(np.log(international_flows))\n",
    "flows_df.index = countries\n",
    "flows_df.columns = countries\n",
    "#px.imshow(flows_df, width=1500, height=1500)"
   ]
  },
  {
   "cell_type": "code",
   "execution_count": 102,
   "metadata": {},
   "outputs": [],
   "source": [
    "# international_matrix_df = pd.DataFrame(international_matrix_norm)\n",
    "mask = international_matrix > 0\n",
    "# international_matrix_df = pd.DataFrame(np.log(international_matrix))\n",
    "international_matrix_df = pd.DataFrame(international_matrix)\n",
    "international_matrix_df.index = country_sector_names\n",
    "international_matrix_df.columns = country_sector_names\n",
    "\n",
    "international_matrix_df = international_matrix_df / international_matrix_df.sum()\n",
    "#international_matrix_df = np.log(international_matrix_df)\n",
    "\n",
    "#px.imshow(international_matrix_df, width=1500, height=1500)"
   ]
  },
  {
   "attachments": {},
   "cell_type": "markdown",
   "metadata": {},
   "source": [
    "## Using OECD Capital Formation Data w/ Iterative Proportional Fitting\n",
    "\n",
    "Again, $I$ is the international investment matrix where $al$ is the producing sector $l$ in country $a$ and $bm$ is the consuming sector $m$ in country $b$.\n",
    "\n",
    "$$I_{(al)(bm)}$$\n",
    "\n",
    "We have $P_{(al)b}$ from the ICIO, total production for each country/sector $al$ that is consumed by each country $b$, and we have $R_{lm}$, the intensive form of the inter sectoral investment recipe based on Vom-Lehn Winberry where $\\sum_{l,m}R_{lm}=1$. In addition, we use $E_{bm}$, total capital formation for each consuming country/sector $bm$, from the OECD. For each pair of countries $a_0$ and $b_0$, we can use these to get estimates for $I_{(a_0l)(b_0m)}$ using iterative proportional fitting. First, we take $P_{(a_0l)b_0}$ as the row margins (e.g. total production) then we calculate the column margins as: \n",
    "\n",
    "$$\\hat{E}_{b_0m}=\\frac{E_{b_0m}}{\\sum_{m}{E_{b_0m}}}\\sum_{l}{P_{(a_0l)b_0}}$$\n",
    "\n",
    "This ensures that the sum of the column margins $\\hat{E}_{b_0m}$ is equal to the sum of the row margins. In other words, we're scaling down total expenditure of the country $b_0$ to match the expenditure of $b_0$ from $a_0$. The implicit assumption here is that the expenditure makeup of $b_0$ is the same for each country $a$ that it is consuming from.\n",
    "\n",
    "We can now perform iterative proportional fitting:\n",
    "\n",
    "$$(1)\\quad R_{lm(k+1)}=(\\frac{R_{lm(k)}}{\\sum_jR_{lm(k)}}) P_{(a_0l)b_0}$$\n",
    "\n",
    "$$(2)\\quad R_{lm(k+2)}=(\\frac{R_{lm(k+1)}}{\\sum_iR_{lm(k)}}) \\hat{E}_{b_0m}$$\n",
    "\n",
    "This results in a better estimated international investment network $I_{(al)(bm)}$ where each country/sector, $al$ and $bm$ has an estimated marginal production and cost, respectively from which estimates are derived.\n"
   ]
  },
  {
   "cell_type": "code",
   "execution_count": 103,
   "metadata": {},
   "outputs": [],
   "source": [
    "prod_cols = icio_df.columns[icio_df.columns.map(lambda x: \"GFCF\" in x)]\n",
    "prod_df = icio_df[prod_cols]\n",
    "# remove any non oecd countries since they don't have data on expenditure\n",
    "countries = list(prod_cols.map(lambda x: x.split(\"_\")[0])) #[:38]\n",
    "country_sectors = len(countries) * len(recipe_df)\n",
    "country_sector_names = []\n",
    "\n",
    "for cou in countries:\n",
    "    for sec in recipe_df.columns:\n",
    "        country_sector_names.append(cou + \"_\" + sec)"
   ]
  },
  {
   "cell_type": "code",
   "execution_count": 104,
   "metadata": {},
   "outputs": [],
   "source": [
    "# country_sectors = len(countries) * len(recipe_df)\n",
    "# country_sector_names = []\n",
    "\n",
    "# for cou in countries:\n",
    "#     for sec in recipe_df.columns:\n",
    "#         country_sector_names.append(cou + \"_\" + sec)\n",
    "\n",
    "# international_matrix2 = np.zeros((country_sectors, country_sectors))\n",
    "# print(\"iters: \", len(countries))\n",
    "# for i, i_cou in tqdm(enumerate(countries)):\n",
    "#     for j, j_cou in enumerate(countries):\n",
    "\n",
    "#         rows = prod_df.index.where(prod_df.index.map(lambda x: i_cou in x and not \"TAXSUB\" in x)).dropna()\n",
    "#         cols = prod_df.columns.where(prod_cols.map(lambda x: j_cou in x and not \"TAXSUB\" in x)).dropna()\n",
    "\n",
    "#         temp_recipe = recipe_df.copy()\n",
    "#         temp_recipe.index = recipe_df.index.map(lambda x: i_cou + \"_\" + x)\n",
    "\n",
    "#         marginal_production = prod_df.loc[rows, cols]\n",
    "#         marginal_production = temp_recipe.join(marginal_production).iloc[:,-1]\n",
    "#         marginal_production = marginal_production.fillna(0)\n",
    "\n",
    "#         marginal_expenditure = expend_df3.loc[expend_df3[\"cou\"].map(lambda x: j_cou in x ), \"val\"]\n",
    "#         marginal_expenditure = temp_recipe.T.join(marginal_expenditure).iloc[:,-1]\n",
    "#         # assume 0 if missing\n",
    "\n",
    "#         marginal_expenditure = marginal_expenditure.fillna(0)\n",
    "        \n",
    "#         marginal_expenditure = marginal_expenditure * marginal_production.sum() / marginal_expenditure.sum()\n",
    "\n",
    "#         temp_mat = iter_prop_fit(recipe_df, list(marginal_production), list(marginal_expenditure), 20)\n",
    "        \n",
    "#         international_matrix2[i*len(recipe_df):(i+1)*len(recipe_df), j*len(recipe_df):(j+1)*len(recipe_df)] = temp_mat.values\n",
    "\n",
    "import proportional_fitting as pf\n",
    "international_matrix2 = pf.iterative_fitting(recipe_df, prod_df, expend_df3, countries)"
   ]
  },
  {
   "cell_type": "code",
   "execution_count": 105,
   "metadata": {},
   "outputs": [
    {
     "name": "stderr",
     "output_type": "stream",
     "text": [
      "/Users/matthewbone/Documents/Coding/VSCode/macro-model-eda/edaEnv/lib/python3.11/site-packages/pandas/core/internals/blocks.py:351: RuntimeWarning:\n",
      "\n",
      "divide by zero encountered in log\n",
      "\n",
      "/Users/matthewbone/Documents/Coding/VSCode/macro-model-eda/edaEnv/lib/python3.11/site-packages/pandas/core/internals/blocks.py:351: RuntimeWarning:\n",
      "\n",
      "invalid value encountered in log\n",
      "\n"
     ]
    }
   ],
   "source": [
    "international_matrix_df2 = pd.DataFrame(international_matrix2)\n",
    "# international_matrix_df2 = pd.DataFrame(np.log(international_matrix2))\n",
    "international_matrix_df2.index = country_sector_names\n",
    "international_matrix_df2.columns = country_sector_names \n",
    "\n",
    "international_matrix_df2 = international_matrix_df2 / international_matrix_df2.sum()\n",
    "international_matrix_df2 = np.log(international_matrix_df2)\n",
    "\n",
    "# px.imshow(international_matrix_df2, width=1000, height=1000)"
   ]
  },
  {
   "attachments": {},
   "cell_type": "markdown",
   "metadata": {},
   "source": [
    "## Comparing Approaches"
   ]
  },
  {
   "cell_type": "code",
   "execution_count": 106,
   "metadata": {},
   "outputs": [
    {
     "name": "stderr",
     "output_type": "stream",
     "text": [
      "/var/folders/c5/1ykwfx953hdd7lps3nkt7myr0000gn/T/ipykernel_4278/3882277675.py:1: RuntimeWarning:\n",
      "\n",
      "divide by zero encountered in log\n",
      "\n",
      "/var/folders/c5/1ykwfx953hdd7lps3nkt7myr0000gn/T/ipykernel_4278/3882277675.py:2: RuntimeWarning:\n",
      "\n",
      "divide by zero encountered in log\n",
      "\n",
      "/var/folders/c5/1ykwfx953hdd7lps3nkt7myr0000gn/T/ipykernel_4278/3882277675.py:2: RuntimeWarning:\n",
      "\n",
      "invalid value encountered in log\n",
      "\n"
     ]
    },
    {
     "data": {
      "image/png": "[encoded data removed]",
      "text/plain": [
       "<Figure size 640x480 with 1 Axes>"
      ]
     },
     "metadata": {},
     "output_type": "display_data"
    }
   ],
   "source": [
    "mat_plain = np.log(international_matrix.flatten())\n",
    "mat_iter = np.log(international_matrix2.flatten())\n",
    "plt.xlabel(\"icio only approach\")\n",
    "plt.ylabel(\"iterative approach\")\n",
    "plt.scatter(mat_plain, mat_iter)\n",
    "plt.show()"
   ]
  },
  {
   "cell_type": "code",
   "execution_count": null,
   "metadata": {},
   "outputs": [],
   "source": []
  }
 ],
 "metadata": {
  "kernelspec": {
   "display_name": "edaEnv",
   "language": "python",
   "name": "python3"
  },
  "language_info": {
   "codemirror_mode": {
    "name": "ipython",
    "version": 3
   },
   "file_extension": ".py",
   "mimetype": "text/x-python",
   "name": "python",
   "nbconvert_exporter": "python",
   "pygments_lexer": "ipython3",
   "version": "3.11.2"
  },
  "orig_nbformat": 4
 },
 "nbformat": 4,
 "nbformat_minor": 2
}
