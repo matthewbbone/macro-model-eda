{
 "cells": [
  {
   "cell_type": "code",
   "execution_count": 2,
   "metadata": {},
   "outputs": [],
   "source": [
    "from dataloader.exchange_rate_data import RatesReader\n",
    "from dataloader.icio_reader import ICIOReader\n",
    "from dataloader.oecd_reader import OECDPopulationSampler\n",
    "from dataloader.wiod_data import WIODReader\n",
    "from dataloader.wiod_sea_data import WIODSEAReader\n",
    "from dataloader.world_bank_reader import WorldBankReader \n",
    "\n",
    "import pandas as pd"
   ]
  },
  {
   "cell_type": "code",
   "execution_count": 1,
   "metadata": {},
   "outputs": [
    {
     "ename": "NameError",
     "evalue": "name 'RatesReader' is not defined",
     "output_type": "error",
     "traceback": [
      "\u001b[0;31m---------------------------------------------------------------------------\u001b[0m",
      "\u001b[0;31mNameError\u001b[0m                                 Traceback (most recent call last)",
      "Cell \u001b[0;32mIn[1], line 1\u001b[0m\n\u001b[0;32m----> 1\u001b[0m rr \u001b[39m=\u001b[39m RatesReader(pd\u001b[39m.\u001b[39mread_csv(\u001b[39m'\u001b[39m\u001b[39m./sample_data/exchange_rates.csv\u001b[39m\u001b[39m'\u001b[39m))\n\u001b[1;32m      2\u001b[0m ir \u001b[39m=\u001b[39m ICIOReader(pd\u001b[39m.\u001b[39mread_csv(\u001b[39m'\u001b[39m\u001b[39msample_data/icio_2014_agg.csv\u001b[39m\u001b[39m'\u001b[39m), [\u001b[39m\"\u001b[39m\u001b[39mAUT_05T06\u001b[39m\u001b[39m\"\u001b[39m], [\u001b[39m\"\u001b[39m\u001b[39m01T02\u001b[39m\u001b[39m\"\u001b[39m, \u001b[39m\"\u001b[39m\u001b[39m03\u001b[39m\u001b[39m\"\u001b[39m])\n\u001b[1;32m      4\u001b[0m ir\u001b[39m.\u001b[39magg_from_csv(\u001b[39m'\u001b[39m\u001b[39msample_data/icio_2014_agg.csv\u001b[39m\u001b[39m'\u001b[39m, [\u001b[39m\"\u001b[39m\u001b[39mAUT_05T06\u001b[39m\u001b[39m\"\u001b[39m], \u001b[39m'\u001b[39m\u001b[39msample_data/icio_agg.json\u001b[39m\u001b[39m'\u001b[39m)\n",
      "\u001b[0;31mNameError\u001b[0m: name 'RatesReader' is not defined"
     ]
    }
   ],
   "source": [
    "rr = RatesReader(pd.read_csv('./sample_data/exchange_rates.csv'))\n",
    "ir = ICIOReader(pd.read_csv('sample_data/icio_2014_agg.csv'), [\"AUT_05T06\"], [\"01T02\", \"03\"])\n",
    "\n",
    "ir.agg_from_csv('sample_data/icio_2014_agg.csv', [\"AUT_05T06\"], 'sample_data/icio_agg.json')"
   ]
  }
 ],
 "metadata": {
  "kernelspec": {
   "display_name": "edaEnv",
   "language": "python",
   "name": "python3"
  },
  "language_info": {
   "codemirror_mode": {
    "name": "ipython",
    "version": 3
   },
   "file_extension": ".py",
   "mimetype": "text/x-python",
   "name": "python",
   "nbconvert_exporter": "python",
   "pygments_lexer": "ipython3",
   "version": "3.11.2 (main, Feb 16 2023, 02:55:59) [Clang 14.0.0 (clang-1400.0.29.202)]"
  },
  "orig_nbformat": 4,
  "vscode": {
   "interpreter": {
    "hash": "1dd776bbc43a4dd90c9c5a3bd732b4c6becda676db002e09ab6e935fcd89cc20"
   }
  }
 },
 "nbformat": 4,
 "nbformat_minor": 2
}
