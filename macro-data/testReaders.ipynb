{
 "cells": [
  {
   "cell_type": "code",
   "execution_count": 4,
   "metadata": {},
   "outputs": [],
   "source": [
    "from data_processing.readers.economic_data.eurostat_reader import EuroStatReader\n",
    "import pandas as pd\n",
    "import numpy as np\n",
    "import matplotlib.pyplot as plt"
   ]
  },
  {
   "cell_type": "code",
   "execution_count": 6,
   "metadata": {},
   "outputs": [
    {
     "data": {
      "text/plain": [
       "0.775"
      ]
     },
     "execution_count": 6,
     "metadata": {},
     "output_type": "execute_result"
    }
   ],
   "source": [
    "es_reader = EuroStatReader('./data/sample_raw_data/eurostat.h5', './data/sample_raw_data/wikipedia-iso-country-codes.csv')\n",
    "es_reader.central_gov_debt_ratios('ESP', 2012)"
   ]
  },
  {
   "cell_type": "code",
   "execution_count": 7,
   "metadata": {},
   "outputs": [],
   "source": [
    "from test_data_processing.unit.readers.test_economic_data.test_eurostat_reader import TestEuroStatReader\n",
    "\n",
    "TestEuroStatReader().test__firm_debt_ratios(es_reader)\n",
    "TestEuroStatReader().test__firm_deposit_ratios(es_reader)\n",
    "TestEuroStatReader().test__cb_debt_ratios(es_reader)\n",
    "TestEuroStatReader().test__cb_equity_ratios(es_reader)\n",
    "TestEuroStatReader().test__general_gov_debt_ratios(es_reader)\n",
    "TestEuroStatReader().test__central_gov_debt_ratios(es_reader)"
   ]
  },
  {
   "attachments": {},
   "cell_type": "markdown",
   "metadata": {},
   "source": [
    "## Combining Data Into HDF"
   ]
  },
  {
   "cell_type": "code",
   "execution_count": 8,
   "metadata": {},
   "outputs": [],
   "source": [
    "# store = pd.HDFStore('./data/sample_raw_data/eurostat.h5')\n",
    "# df1 = pd.read_csv('./data/sample_raw_data/eurostat_firmdebt_ratios.csv')\n",
    "# store.append('firmdebt_ratios', df1)\n",
    "# df2 = pd.read_csv('./data/sample_raw_data/eurostat_firmdeposit_ratios.csv')\n",
    "# store.append('firmdeposit_ratios', df2)\n",
    "# df3 = pd.read_csv('./data/sample_raw_data/eurostat_cbdebt_ratios.csv')\n",
    "# store.append('cbdebt_ratios', df3)\n",
    "# df4 = pd.read_csv('./data/sample_raw_data/eurostat_cbequity_ratios.csv')\n",
    "# store.append('cbequity_ratios', df4)\n",
    "# df5 = pd.read_csv('./data/sample_raw_data/eurostat_general_govdebt_ratios.csv')\n",
    "# store.append('general_govdebt_ratios', df5)\n",
    "# df6 = pd.read_csv('./data/sample_raw_data/eurostat_central_govdebt_ratios.csv')\n",
    "# store.append('central_govdebt_ratios', df6)\n",
    "# store.close()"
   ]
  },
  {
   "attachments": {},
   "cell_type": "markdown",
   "metadata": {},
   "source": [
    "## Central Bank Policy Rates"
   ]
  },
  {
   "cell_type": "code",
   "execution_count": 9,
   "metadata": {},
   "outputs": [],
   "source": [
    "temp_df = pd.read_csv('./data/sample_raw_data/bis_cb_policy_rates.csv')\n",
    "years = np.unique([y[0:4] for y in temp_df.columns[13:]])\n",
    "countries = [{'country': c} for c in temp_df['Reference area'].values]\n",
    "\n",
    "for y in years:\n",
    "    yearly_rates = temp_df[[date for date in temp_df.columns if y in date]].mean(axis=1)\n",
    "    for i, country in enumerate(countries):\n",
    "        country[y] = yearly_rates[i]\n",
    "\n",
    "from data_processing.readers.economic_data.policy_rates import PolicyRatesReader\n",
    "from test_data_processing.unit.readers.test_economic_data.test_policy_rates import TestPolicyRates\n",
    "\n",
    "prr = PolicyRatesReader('./data/sample_raw_data/bis_cb_policy_rates.csv','./data/sample_raw_data/wikipedia-iso-country-codes.csv')\n",
    "prr.cb_policy_rate('AUS', 2020)\n",
    "\n",
    "prrTest = TestPolicyRates()\n",
    "prrTest.test__firm_debt_ratios(prr)"
   ]
  },
  {
   "cell_type": "code",
   "execution_count": 10,
   "metadata": {},
   "outputs": [
    {
     "data": {
      "text/plain": [
       "0.018333333333333333"
      ]
     },
     "execution_count": 10,
     "metadata": {},
     "output_type": "execute_result"
    }
   ],
   "source": [
    "prr.cb_policy_rate('USA', 2018)"
   ]
  },
  {
   "attachments": {},
   "cell_type": "markdown",
   "metadata": {},
   "source": [
    "## OECD Policy Rates"
   ]
  },
  {
   "cell_type": "code",
   "execution_count": 11,
   "metadata": {},
   "outputs": [],
   "source": [
    "# store = pd.HDFStore('./data/sample_raw_data/oecd_econ_data.h5')\n",
    "# df1 = pd.read_csv('./data/sample_raw_data/oecd_policy_rates.csv')\n",
    "# store.append('cb_policy_rates', df1)"
   ]
  },
  {
   "cell_type": "code",
   "execution_count": 13,
   "metadata": {},
   "outputs": [],
   "source": [
    "from data_processing.readers.economic_data.oecd_economic_data import OECDEconData\n",
    "\n",
    "oecd = OECDEconData('./data/sample_raw_data/oecd_econ_data.h5', 100)\n",
    "oecd.read_immediate_interest_rates('USA', 2018)\n",
    "\n",
    "from test_data_processing.unit.readers.test_economic_data.test_oecd_economic_data import TestOECDEconData\n",
    "\n",
    "oecdTest = TestOECDEconData()\n",
    "oecdTest.test__immediate_interest_rates({'econ':oecd})\n",
    "oecdTest.test__shortterm_interest_rates({'econ':oecd})\n",
    "oecdTest.test__longterm_interest_rates({'econ':oecd})\n",
    "\n",
    "oecdTest.test__tau_sif({'econ':oecd})\n",
    "oecdTest.test__tau_siw({'econ':oecd})\n",
    "oecdTest.test__tau_firm({'econ':oecd})\n",
    "oecdTest.test__tau_inc({'econ':oecd})"
   ]
  },
  {
   "attachments": {},
   "cell_type": "markdown",
   "metadata": {},
   "source": [
    "## World Bank GINI Coef"
   ]
  },
  {
   "cell_type": "code",
   "execution_count": null,
   "metadata": {},
   "outputs": [],
   "source": [
    "# store = pd.HDFStore('./data/sample_raw_data/world_bank.h5')\n",
    "# df1 = pd.read_csv('./data/sample_raw_data/wb_gini.csv')\n",
    "# store.append('gini_coefs', df1)"
   ]
  },
  {
   "cell_type": "code",
   "execution_count": null,
   "metadata": {},
   "outputs": [
    {
     "data": {
      "text/plain": [
       "0.513"
      ]
     },
     "execution_count": 10,
     "metadata": {},
     "output_type": "execute_result"
    }
   ],
   "source": [
    "from data_processing.readers.economic_data.world_bank_reader import WorldBankReader\n",
    "\n",
    "wb = WorldBankReader('./data/sample_raw_data/world_bank.h5')\n",
    "wb.get_gini_coef('AGO', 2018)"
   ]
  },
  {
   "cell_type": "code",
   "execution_count": null,
   "metadata": {},
   "outputs": [
    {
     "data": {
      "text/plain": [
       "81    34.0\n",
       "Name: 2014, dtype: float64"
      ]
     },
     "execution_count": 11,
     "metadata": {},
     "output_type": "execute_result"
    }
   ],
   "source": [
    "import pandas as pd\n",
    "wb_df = pd.read_hdf('./data/sample_raw_data/world_bank.h5', key='gini_coefs')\n",
    "wb_df[wb_df['Country Code'] == 'GBR']['2014']"
   ]
  },
  {
   "cell_type": "code",
   "execution_count": null,
   "metadata": {},
   "outputs": [],
   "source": [
    "from test_data_processing.unit.readers.test_economic_data.test_world_bank_reader import TestWorldBankReader\n",
    "\n",
    "wbTest = TestWorldBankReader()\n",
    "wbTest.test__unemployment_rates(wb)\n",
    "wbTest.test__participation_rates(wb)\n",
    "wbTest.test__get_tau_vat(wb)\n",
    "wbTest.test__get_tau_exp(wb)\n",
    "wbTest.test__get_historic_gdp(wb)\n",
    "wbTest.test__get_historic_cpi(wb)\n",
    "wbTest.test__get_gini_coef(wb)"
   ]
  },
  {
   "attachments": {},
   "cell_type": "markdown",
   "metadata": {},
   "source": [
    "## Eurostat Bond Rates"
   ]
  },
  {
   "cell_type": "code",
   "execution_count": null,
   "metadata": {},
   "outputs": [],
   "source": [
    "# store = pd.HDFStore('./data/sample_raw_data/eurostat.h5')\n",
    "# df1 = pd.read_csv('./data/sample_raw_data/eurostat_longterm_govbond_rates.csv')\n",
    "# store.append('longterm_gov_bond_rates', df1)\n",
    "# df2 = pd.read_csv('./data/sample_raw_data/eurostat_shortterm_govbond_rates.csv')\n",
    "# store.append('shortterm_gov_bond_rates', df2)\n",
    "# store.close()"
   ]
  },
  {
   "cell_type": "code",
   "execution_count": null,
   "metadata": {},
   "outputs": [
    {
     "data": {
      "text/plain": [
       "0.0073"
      ]
     },
     "execution_count": 14,
     "metadata": {},
     "output_type": "execute_result"
    }
   ],
   "source": [
    "import pandas as pd\n",
    "\n",
    "from data_processing.readers.economic_data.eurostat_reader import EuroStatReader\n",
    "\n",
    "es_reader = EuroStatReader('./data/sample_raw_data/eurostat.h5', './data/sample_raw_data/wikipedia-iso-country-codes.csv')\n",
    "es_reader.shortterm_gov_bond_rates('HRV', 2014, 1)"
   ]
  },
  {
   "cell_type": "code",
   "execution_count": null,
   "metadata": {},
   "outputs": [],
   "source": [
    "from test_data_processing.unit.readers.test_economic_data.test_eurostat_reader import TestEuroStatReader\n",
    "\n",
    "esTest = TestEuroStatReader()\n",
    "esTest.test__longterm_gov_bond_rates(es_reader)\n",
    "esTest.test__shortterm_gov_bond_rates(es_reader)"
   ]
  },
  {
   "attachments": {},
   "cell_type": "markdown",
   "metadata": {},
   "source": [
    "## Eurostat Dividend Payout"
   ]
  },
  {
   "cell_type": "code",
   "execution_count": null,
   "metadata": {},
   "outputs": [],
   "source": [
    "# store = pd.HDFStore('./data/sample_raw_data/eurostat.h5')\n",
    "# df1 = pd.read_csv('./data/sample_raw_data/eurostat_hh_property_income.csv')\n",
    "# store.append('hh_property_income', df1)\n",
    "# df2 = pd.read_csv('./data/sample_raw_data/eurostat_hh_surplus_income.csv')\n",
    "# store.append('hh_surplus_income', df2)\n",
    "# df3 = pd.read_csv('./data/sample_raw_data/eurostat_firm_surplus.csv')\n",
    "# store.append('firm_surplus', df3)\n",
    "# store.close()"
   ]
  },
  {
   "cell_type": "code",
   "execution_count": null,
   "metadata": {},
   "outputs": [
    {
     "data": {
      "text/plain": [
       "0.28259792120488386"
      ]
     },
     "execution_count": 17,
     "metadata": {},
     "output_type": "execute_result"
    }
   ],
   "source": [
    "from data_processing.readers.economic_data.eurostat_reader import EuroStatReader\n",
    "es = EuroStatReader('./data/sample_raw_data/eurostat.h5', './data/sample_raw_data/wikipedia-iso-country-codes.csv')\n",
    "es.dividend_payout_ratio('LUX', 2012)"
   ]
  },
  {
   "cell_type": "code",
   "execution_count": null,
   "metadata": {},
   "outputs": [],
   "source": [
    "from test_data_processing.unit.readers.test_economic_data.test_eurostat_reader import TestEuroStatReader\n",
    "\n",
    "esTest = TestEuroStatReader()\n",
    "esTest.test__dividend_payout_ratio(es)"
   ]
  },
  {
   "attachments": {},
   "cell_type": "markdown",
   "metadata": {},
   "source": [
    "##  OECD Capital Requirements"
   ]
  },
  {
   "cell_type": "code",
   "execution_count": null,
   "metadata": {},
   "outputs": [],
   "source": [
    "# import pandas as pd\n",
    "# store = pd.HDFStore('./data/sample_raw_data/oecd_econ_data.h5')\n",
    "# df1 = pd.read_csv('./data/sample_raw_data/oecd_bank_capital_reqs.csv')\n",
    "# store.append('bank_capital_reqs', df1)\n",
    "# store.close()"
   ]
  },
  {
   "cell_type": "code",
   "execution_count": null,
   "metadata": {},
   "outputs": [
    {
     "data": {
      "text/plain": [
       "0.14349613824833254"
      ]
     },
     "execution_count": 20,
     "metadata": {},
     "output_type": "execute_result"
    }
   ],
   "source": [
    "from data_processing.readers.economic_data.oecd_economic_data import OECDEconData\n",
    "\n",
    "oe = OECDEconData('./data/sample_raw_data/oecd_econ_data.h5', 100)\n",
    "oe.read_tierone_reserves('BEL', 2004)"
   ]
  },
  {
   "cell_type": "code",
   "execution_count": 14,
   "metadata": {},
   "outputs": [],
   "source": [
    "from test_data_processing.unit.readers.test_economic_data.test_oecd_economic_data import TestOECDEconData\n",
    "\n",
    "oeTest = TestOECDEconData()\n",
    "oeTest.test__tierone_reserves({'econ':oe})"
   ]
  },
  {
   "attachments": {},
   "cell_type": "markdown",
   "metadata": {},
   "source": [
    "## Eurostat Quarterly GDP and CPI"
   ]
  },
  {
   "cell_type": "code",
   "execution_count": null,
   "metadata": {},
   "outputs": [],
   "source": [
    "# import pandas as pd\n",
    "# store = pd.HDFStore('./data/sample_raw_data/eurostat.h5')\n",
    "# df1 = pd.read_csv('./data/sample_raw_data/eurostat_gdp.csv')\n",
    "# store.append('gdp', df1)\n",
    "# df2 = pd.read_csv('./data/sample_raw_data/eurostat_cpi.csv')\n",
    "# store.append('inflation', df2)\n",
    "# store.close()"
   ]
  },
  {
   "cell_type": "code",
   "execution_count": null,
   "metadata": {},
   "outputs": [
    {
     "data": {
      "text/plain": [
       "0.024185461999999935"
      ]
     },
     "execution_count": 47,
     "metadata": {},
     "output_type": "execute_result"
    }
   ],
   "source": [
    "from data_processing.readers.economic_data.eurostat_reader import EuroStatReader\n",
    "\n",
    "es = EuroStatReader('./data/sample_raw_data/eurostat.h5', './data/sample_raw_data/wikipedia-iso-country-codes.csv')\n",
    "es.quarterly_inflation('ZAF', 2022, 2)"
   ]
  },
  {
   "cell_type": "code",
   "execution_count": null,
   "metadata": {},
   "outputs": [],
   "source": [
    "from test_data_processing.unit.readers.test_economic_data.test_eurostat_reader import TestEuroStatReader\n",
    "\n",
    "esTest = TestEuroStatReader()\n",
    "esTest.test__quarterly_gdp(es)\n",
    "esTest.test__quarterly_inflation(es)"
   ]
  },
  {
   "attachments": {},
   "cell_type": "markdown",
   "metadata": {},
   "source": [
    "# OECD Bank Data"
   ]
  },
  {
   "cell_type": "code",
   "execution_count": 2,
   "metadata": {},
   "outputs": [],
   "source": [
    "# import pandas as pd\n",
    "# store = pd.HDFStore('./data/sample_raw_data/oecd_econ_data.h5')\n",
    "# df1 = pd.read_csv('./data/sample_raw_data/oecd_bank_data.csv')\n",
    "# store.append('bank_demography', df1)\n",
    "# store.close()"
   ]
  },
  {
   "cell_type": "code",
   "execution_count": 1,
   "metadata": {},
   "outputs": [
    {
     "name": "stdout",
     "output_type": "stream",
     "text": [
      "0.14705811204574193\n",
      "867.0\n",
      "4254.0\n",
      "68950.0\n",
      "-285000000.0\n",
      "-1146000000.0\n",
      "1047010000000.0\n"
     ]
    }
   ],
   "source": [
    "from data_processing.readers.economic_data.oecd_economic_data import OECDEconData\n",
    "\n",
    "oe = OECDEconData('./data/sample_raw_data/oecd_econ_data.h5', 100)\n",
    "\n",
    "print(oe.read_tierone_reserves(\"AUT\", 2008))\n",
    "print(oe.read_number_of_banks(\"AUT\", 2008))\n",
    "print(oe.read_number_of_bank_branches(\"AUT\", 2008))\n",
    "print(oe.read_number_of_bank_employees(\"AUT\", 2008))\n",
    "print(oe.read_bank_distributed_profit(\"AUT\", 2008))\n",
    "print(oe.read_bank_retained_profit(\"AUT\", 2008))\n",
    "print(oe.read_bank_total_assets(\"AUT\", 2008))"
   ]
  },
  {
   "cell_type": "code",
   "execution_count": 2,
   "metadata": {},
   "outputs": [],
   "source": [
    "from test_data_processing.unit.readers.test_economic_data.test_oecd_economic_data import TestOECDEconData\n",
    "\n",
    "oeTest = TestOECDEconData()\n",
    "\n",
    "oeTest.test__tierone_reserves({'econ':oe})\n",
    "oeTest.test__number_of_banks({'econ':oe})\n",
    "oeTest.test__number_of_bank_branches({'econ':oe})\n",
    "oeTest.test__number_of_bank_employees({'econ':oe})\n",
    "oeTest.test__bank_distributed_profit({'econ':oe})\n",
    "oeTest.test__bank_retained_profit({'econ':oe})\n",
    "oeTest.test__bank_total_assets({'econ':oe})"
   ]
  }
 ],
 "metadata": {
  "kernelspec": {
   "display_name": "macroEnv",
   "language": "python",
   "name": "python3"
  },
  "language_info": {
   "codemirror_mode": {
    "name": "ipython",
    "version": 3
   },
   "file_extension": ".py",
   "mimetype": "text/x-python",
   "name": "python",
   "nbconvert_exporter": "python",
   "pygments_lexer": "ipython3",
   "version": "3.10.10"
  },
  "orig_nbformat": 4,
  "vscode": {
   "interpreter": {
    "hash": "661aaeab33a3d9c8035a264928d9c04f94e3a1d0d5393fd37ad207e498e7e15f"
   }
  }
 },
 "nbformat": 4,
 "nbformat_minor": 2
}
