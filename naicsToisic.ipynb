{
 "cells": [
  {
   "cell_type": "code",
   "execution_count": 3,
   "metadata": {},
   "outputs": [],
   "source": [
    "import numpy as np\n",
    "import pandas as pd\n",
    "import json"
   ]
  },
  {
   "attachments": {},
   "cell_type": "markdown",
   "metadata": {},
   "source": [
    "## Mapping NAICS Codes to ISIC Sectors\n",
    "\n",
    "naics sectors: https://www.census.gov/programs-surveys/economic-census/year/2022/guidance/understanding-naics.html\n",
    "\n",
    "isic sectors: https://unstats.un.org/unsd/classifications/Econ/Download/In%20Text/ISIC_Rev_4_publication_English.pdf"
   ]
  },
  {
   "cell_type": "code",
   "execution_count": 4,
   "metadata": {},
   "outputs": [],
   "source": [
    "naics_sectors = {\n",
    "    'Agriculture, Forestry, Fishing and Hunting': ['11'],\n",
    "    'Mining, Quarrying, and Oil and Gas Extraction': ['21'],\n",
    "    'Utilities': ['22'],\n",
    "    'Construction': ['23'],\n",
    "    'Manufacturing': ['31', '32', '33'],\n",
    "    'Wholesale Trade': ['42'],\n",
    "    'Retail Trade': ['44','45'],\n",
    "    'Transportation and Warehousing': ['48', '49'],\n",
    "    'Information': ['51'],\n",
    "    'Finance and Insurance': ['52'],\n",
    "    'Real Estate and Rental and Leasing': ['53'],\n",
    "    'Professional, Scientific, and Technical Services': ['54'],\n",
    "    'Management of Companies and Enterprises': ['55'],\n",
    "    'Administrative and Support and Waste Management and Remediation Services': ['56'],\n",
    "    'Educational Services': ['61'],\n",
    "    'Health Care and Social Assistance': ['62'], \n",
    "    'Arts, Entertainment, and Recreation': ['71'],\n",
    "    'Accommodation and Food Services': ['72'],\n",
    "    'Other Services': ['81'],\n",
    "    'Public Administration': ['92']\n",
    "}\n"
   ]
  },
  {
   "cell_type": "code",
   "execution_count": 11,
   "metadata": {},
   "outputs": [],
   "source": [
    "# from https://unstats.un.org/unsd/classifications/Econ/Download/In%20Text/ISIC_Rev_4_publication_English.pdf\n",
    "isic_sectors_df = pd.read_csv('ISIC_SECTORS.csv')\n",
    "\n",
    "isic_sectors = {}\n",
    "\n",
    "for i, row in isic_sectors_df.iterrows():\n",
    "    \n",
    "    subs = [int(x) for x in row[1].split('–')]\n",
    "    if len(subs) > 1:\n",
    "        subs = np.arange(subs[0], subs[1] + 1)\n",
    "    subs = ['0' + str(x) if len(str(x)) < 2 else str(x) for x in subs]\n",
    "\n",
    "    for s in subs:\n",
    "        isic_sectors[s] = row[0]"
   ]
  },
  {
   "cell_type": "code",
   "execution_count": 6,
   "metadata": {},
   "outputs": [],
   "source": [
    "# from https://unstats.un.org/unsd/classifications/Econ/isic\n",
    "# specifically https://unstats.un.org/unsd/classifications/Econ/tables/ISIC/NAICS2012US-ISIC4/NAICS2012US-ISIC4.txt\n",
    "naics_isic_df = pd.read_csv('NAICS_ISIC.csv', dtype={'NAICS2012Code': str, 'ISIC4Code': str})"
   ]
  },
  {
   "cell_type": "code",
   "execution_count": 7,
   "metadata": {},
   "outputs": [],
   "source": [
    "\n",
    "def naics_breakdown(naics_isic_df, digits=3):\n",
    "\n",
    "    naics_isic_df['ISICSec'] = naics_isic_df['ISIC4Code'].map(lambda x: isic_sectors[x[0:2]] )\n",
    "    naics_isic_df[f'NAICS_{digits}'] = naics_isic_df['NAICS2012Code'].map(lambda x: x[0:digits] if type(x) is str else None)\n",
    "    pd.set_option('display.max_rows', 200)\n",
    "\n",
    "    # inter_map shows match list\n",
    "    inter_map = naics_isic_df[[f'NAICS_{digits}', 'ISICSec', 'NAICS2012Code']].groupby([f'NAICS_{digits}', 'ISICSec']).agg({'count'})\n",
    "    inter_map['best_match'] = None\n",
    "\n",
    "    matches = []\n",
    "    for code in list(np.unique(naics_isic_df[f'NAICS_{digits}'].dropna())):\n",
    "        best_match = inter_map.loc[code][('NAICS2012Code','count')].map(\n",
    "            lambda x: x == max(inter_map.loc[code][('NAICS2012Code','count')])\n",
    "        )\n",
    "        for m in best_match: matches.append(m)\n",
    "\n",
    "    naics_isicsec = {}\n",
    "\n",
    "    for i in inter_map[matches].index:\n",
    "        if i[0] in naics_isicsec.keys():\n",
    "            naics_isicsec[i[0]].append(i[1])\n",
    "        else: naics_isicsec[i[0]] = [i[1]]\n",
    "\n",
    "    # arbitrarily picks first with tied number of sub sectors\n",
    "    for key, val in naics_isicsec.items():\n",
    "        naics_isicsec[key] = val[0]\n",
    "\n",
    "    return naics_isicsec"
   ]
  },
  {
   "cell_type": "code",
   "execution_count": 12,
   "metadata": {},
   "outputs": [],
   "source": [
    "naics_walk = {}\n",
    "for i in range(4): \n",
    "    naics_walk = { **naics_walk, **naics_breakdown(naics_isic_df, i)}\n",
    "\n",
    "naics_3_isicsec = naics_breakdown(naics_isic_df, 3)\n",
    "\n",
    "with open('naics_isic_map.json', 'w') as f:\n",
    "    f.write(json.dumps(naics_walk))"
   ]
  },
  {
   "attachments": {},
   "cell_type": "markdown",
   "metadata": {},
   "source": [
    "## Implementing VW Sectors to ISIC"
   ]
  },
  {
   "cell_type": "code",
   "execution_count": 13,
   "metadata": {},
   "outputs": [],
   "source": [
    "# compares to \"Replication Packet/Converting SIC to NAICS/SIC_NAICS_BEA_allsec.do\"\n",
    "# VW aggregated industries\n",
    "VW_groups = {\n",
    "    'Agriculture': [111,112,113,114,115], # excluded\n",
    "    'Mining': [212],\n",
    "    'Oil/Gas': [211], # excluded\n",
    "    'Mining Support': ['212'], # excluded\n",
    "    'Util': [22], # 221 doesn't exist in NAICS codes in asset expenditures but in VW mapping\n",
    "    'Const': [23],\n",
    "    'Wood': [321],\n",
    "    'Minerals': [327],\n",
    "    'Primary Metals': [331],\n",
    "    'Fabricated Metals': [332],\n",
    "    'Machinery': [333],\n",
    "    'Computers': [334],\n",
    "    'Electrical': [335],\n",
    "    'Vehicles': [3361,3362,3363],\n",
    "    'Transport': [3364,3365,3366,3367,3368,3369],\n",
    "    'Furniture': [337],\n",
    "    'Misc Mfg': [339],\n",
    "    'Food Mfg': [311,312],\n",
    "    'Textile': [313,314],\n",
    "    'Apparel': [315,316],\n",
    "    'Paper': [322],\n",
    "    'Printing': [323],\n",
    "    'Petroleum': [324],\n",
    "    'Chemical': [325],\n",
    "    'Plastics': [326],\n",
    "    'Wholesale Trade': [42],\n",
    "    'Retail Trade': [44,45],\n",
    "    'Transit/Warehouse': [48,49],\n",
    "    'Info': [51],\n",
    "    'Finance/Insurance': [52],\n",
    "    'Real Estate': [531],\n",
    "    'Rental': [532,533], # excluded\n",
    "    'Prof/Tech': [54],\n",
    "    'Mgmt': [55],\n",
    "    'Admin': [561,562], # just 56 in the VW mapping\n",
    "    'Educ': [61],\n",
    "    'Health': [62],\n",
    "    'Arts': [71],\n",
    "    'Accom': [721],\n",
    "    'Food Services': [722],\n",
    "    'Other Services': [81]\n",
    "}"
   ]
  },
  {
   "cell_type": "code",
   "execution_count": 14,
   "metadata": {},
   "outputs": [],
   "source": [
    "VW_isicsec = {}\n",
    "for key, vals in VW_groups.items():\n",
    "    VW_isicsec[key] = []\n",
    "    for v in vals:\n",
    "        code = str(v)\n",
    "        if len(code) == 3:\n",
    "            VW_isicsec[key].append(naics_3_isicsec[code])\n",
    "        elif len(code) == 2:\n",
    "            matches = pd.Series(naics_3_isicsec.keys())[pd.Series(naics_3_isicsec.keys()).map(lambda x: x[0:2]) == code]\n",
    "            for match in matches:\n",
    "                VW_isicsec[key].append(naics_3_isicsec[match])\n",
    "        elif len(code) == 4:\n",
    "            VW_isicsec[key].append(naics_3_isicsec[code[0:3]])\n",
    "    VW_isicsec[key] = list(np.unique(VW_isicsec[key]))"
   ]
  },
  {
   "cell_type": "code",
   "execution_count": 15,
   "metadata": {},
   "outputs": [],
   "source": [
    "isicsec_VW = {}\n",
    "for vw, sec in VW_isicsec.items():\n",
    "    for sec in sec:\n",
    "        if not sec in isicsec_VW.keys():\n",
    "            isicsec_VW[sec] = [vw]\n",
    "        else: isicsec_VW[sec].append(vw)"
   ]
  },
  {
   "cell_type": "code",
   "execution_count": 16,
   "metadata": {},
   "outputs": [
    {
     "data": {
      "text/plain": [
       "{'A': ['Agriculture'],\n",
       " 'B': ['Mining', 'Oil/Gas', 'Mining Support'],\n",
       " 'D': ['Util'],\n",
       " 'F': ['Const'],\n",
       " 'C': ['Wood',\n",
       "  'Minerals',\n",
       "  'Primary Metals',\n",
       "  'Fabricated Metals',\n",
       "  'Machinery',\n",
       "  'Computers',\n",
       "  'Electrical',\n",
       "  'Vehicles',\n",
       "  'Transport',\n",
       "  'Furniture',\n",
       "  'Misc Mfg',\n",
       "  'Food Mfg',\n",
       "  'Textile',\n",
       "  'Apparel',\n",
       "  'Paper',\n",
       "  'Printing',\n",
       "  'Petroleum',\n",
       "  'Chemical',\n",
       "  'Plastics',\n",
       "  'Other Services'],\n",
       " 'G': ['Wholesale Trade', 'Retail Trade'],\n",
       " 'H': ['Transit/Warehouse'],\n",
       " 'J': ['Info'],\n",
       " 'K': ['Finance/Insurance', 'Mgmt'],\n",
       " 'L': ['Real Estate'],\n",
       " 'N': ['Rental', 'Admin'],\n",
       " 'M': ['Prof/Tech'],\n",
       " 'E': ['Admin'],\n",
       " 'P': ['Educ'],\n",
       " 'Q': ['Health'],\n",
       " 'R': ['Arts'],\n",
       " 'I': ['Accom', 'Food Services'],\n",
       " 'S': ['Other Services'],\n",
       " 'T': ['Other Services']}"
      ]
     },
     "execution_count": 16,
     "metadata": {},
     "output_type": "execute_result"
    }
   ],
   "source": [
    "isicsec_VW"
   ]
  },
  {
   "attachments": {},
   "cell_type": "markdown",
   "metadata": {},
   "source": [
    "## Implementing BEA to ISIC Sectors"
   ]
  },
  {
   "cell_type": "code",
   "execution_count": 17,
   "metadata": {},
   "outputs": [],
   "source": [
    "expenditure_data = './assetInvestments.xlsx'"
   ]
  },
  {
   "cell_type": "code",
   "execution_count": 18,
   "metadata": {},
   "outputs": [
    {
     "name": "stdout",
     "output_type": "stream",
     "text": [
      "['3361', '3']\n",
      "['3364', '9']\n",
      "['44', '5']\n"
     ]
    }
   ],
   "source": [
    "readme = pd.read_excel(expenditure_data, header=14, converters={'BEA CODE': str, '2012 NAICS Codes': str})\n",
    "readme = readme[['BEA CODE', '2012 NAICS Codes']][readme['BEA CODE'].map(lambda x: not (type(x) is float or x == '--------') )]\n",
    "bea_naics_map = {}\n",
    "for i, row in readme.iterrows():\n",
    "    naics = row[1].split(',')\n",
    "    for n in naics:\n",
    "        if '-' in naics[0]:\n",
    "            temp = naics[0].split('-')\n",
    "            print(temp)\n",
    "            naics = [str(x) for x in np.arange(int(temp[0]),int(temp[0][:-1] + temp[1]) + 1)]\n",
    "    bea_naics_map[row[0]] = [n.strip() for n in naics]"
   ]
  },
  {
   "cell_type": "code",
   "execution_count": 19,
   "metadata": {},
   "outputs": [
    {
     "name": "stdout",
     "output_type": "stream",
     "text": [
      "{'': 'C', '1': 'A', '2': 'F', '3': 'C', '4': 'G', '5': 'N', '6': 'Q', '7': 'R', '8': 'S', '9': 'O', '11': 'A', '21': 'B', '22': 'D', '23': 'F', '31': 'C', '32': 'C', '33': 'C', '42': 'G', '44': 'G', '45': 'G', '48': 'H', '49': 'H', '51': 'J', '52': 'K', '53': 'N', '54': 'M', '55': 'K', '56': 'N', '61': 'P', '62': 'Q', '71': 'R', '72': 'I', '81': 'S', '92': 'O', '111': 'A', '112': 'A', '113': 'A', '114': 'A', '115': 'A', '211': 'B', '212': 'B', '213': 'B', '221': 'D', '236': 'F', '237': 'F', '238': 'F', '311': 'C', '312': 'C', '313': 'C', '314': 'C', '315': 'C', '316': 'C', '321': 'C', '322': 'C', '323': 'C', '324': 'C', '325': 'C', '326': 'C', '327': 'C', '331': 'C', '332': 'C', '333': 'C', '334': 'C', '335': 'C', '336': 'C', '337': 'C', '339': 'C', '423': 'G', '424': 'G', '425': 'G', '441': 'G', '442': 'G', '443': 'G', '444': 'G', '445': 'G', '446': 'G', '447': 'G', '448': 'G', '451': 'G', '452': 'G', '453': 'G', '454': 'G', '481': 'H', '482': 'H', '483': 'H', '484': 'H', '485': 'H', '486': 'H', '487': 'H', '488': 'H', '491': 'H', '492': 'H', '493': 'H', '511': 'J', '512': 'J', '515': 'J', '517': 'J', '518': 'J', '519': 'J', '521': 'K', '522': 'K', '523': 'K', '524': 'K', '525': 'K', '531': 'L', '532': 'N', '533': 'N', '541': 'M', '551': 'K', '561': 'N', '562': 'E', '611': 'P', '621': 'Q', '622': 'Q', '623': 'Q', '624': 'Q', '711': 'R', '712': 'R', '713': 'R', '721': 'I', '722': 'I', '811': 'C', '812': 'S', '813': 'S', '814': 'T', '921': 'O', '922': 'O', '923': 'O', '924': 'O', '925': 'O', '926': 'O', '927': 'H', '928': 'O'}\n"
     ]
    }
   ],
   "source": [
    "with open('naics_isic_map.json', 'r') as f:\n",
    "    naics_isic = json.loads(f.read())\n",
    "\n",
    "# i can make a map to have 2,3,4 digits naics codes mapped in the same way i map 3 digits ones\n",
    "temp_map = {\n",
    "    # '22': 'D',\n",
    "    # '23': 'F',\n",
    "    # '42': 'G',\n",
    "    # '44': 'G',\n",
    "    # '45': 'G',\n",
    "    # '55': 'K',\n",
    "    # '61': 'P'\n",
    "}\n",
    "\n",
    "print(naics_isic)\n",
    "\n",
    "naics_isic = {**naics_isic, **temp_map}\n",
    "\n",
    "bea_isic = {}\n",
    "for key, val in bea_naics_map.items():\n",
    "    if key != '8100':\n",
    "        bea_isic[key] = np.unique([naics_isic[v[0:3]] for v in val])[0]\n",
    "\n",
    "with open('bea_isic_map.json', 'w') as f:\n",
    "    f.write(json.dumps(bea_isic))"
   ]
  }
 ],
 "metadata": {
  "kernelspec": {
   "display_name": "edaEnv",
   "language": "python",
   "name": "python3"
  },
  "language_info": {
   "codemirror_mode": {
    "name": "ipython",
    "version": 3
   },
   "file_extension": ".py",
   "mimetype": "text/x-python",
   "name": "python",
   "nbconvert_exporter": "python",
   "pygments_lexer": "ipython3",
   "version": "3.11.2"
  },
  "orig_nbformat": 4,
  "vscode": {
   "interpreter": {
    "hash": "1dd776bbc43a4dd90c9c5a3bd732b4c6becda676db002e09ab6e935fcd89cc20"
   }
  }
 },
 "nbformat": 4,
 "nbformat_minor": 2
}
