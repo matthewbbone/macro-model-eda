{
 "cells": [
  {
   "cell_type": "code",
   "execution_count": 22,
   "metadata": {},
   "outputs": [],
   "source": [
    "import numpy as np\n",
    "import pandas as pd\n",
    "import json"
   ]
  },
  {
   "attachments": {},
   "cell_type": "markdown",
   "metadata": {},
   "source": [
    "## Mapping NAICS Codes to ISIC Sectors\n",
    "\n",
    "naics sectors: https://www.census.gov/programs-surveys/economic-census/year/2022/guidance/understanding-naics.html\n",
    "\n",
    "isic sectors: https://unstats.un.org/unsd/classifications/Econ/Download/In%20Text/ISIC_Rev_4_publication_English.pdf"
   ]
  },
  {
   "cell_type": "code",
   "execution_count": 23,
   "metadata": {},
   "outputs": [],
   "source": [
    "naics_sectors = {\n",
    "    'Agriculture, Forestry, Fishing and Hunting': ['11'],\n",
    "    'Mining, Quarrying, and Oil and Gas Extraction': ['21'],\n",
    "    'Utilities': ['22'],\n",
    "    'Construction': ['23'],\n",
    "    'Manufacturing': ['31', '32', '33'],\n",
    "    'Wholesale Trade': ['42'],\n",
    "    'Retail Trade': ['44','45'],\n",
    "    'Transportation and Warehousing': ['48', '49'],\n",
    "    'Information': ['51'],\n",
    "    'Finance and Insurance': ['52'],\n",
    "    'Real Estate and Rental and Leasing': ['53'],\n",
    "    'Professional, Scientific, and Technical Services': ['54'],\n",
    "    'Management of Companies and Enterprises': ['55'],\n",
    "    'Administrative and Support and Waste Management and Remediation Services': ['56'],\n",
    "    'Educational Services': ['61'],\n",
    "    'Health Care and Social Assistance': ['62'], \n",
    "    'Arts, Entertainment, and Recreation': ['71'],\n",
    "    'Accommodation and Food Services': ['72'],\n",
    "    'Other Services': ['81'],\n",
    "    'Public Administration': ['92']\n",
    "}\n"
   ]
  },
  {
   "cell_type": "code",
   "execution_count": 25,
   "metadata": {},
   "outputs": [],
   "source": [
    "# from https://unstats.un.org/unsd/classifications/Econ/Download/In%20Text/ISIC_Rev_4_publication_English.pdf\n",
    "isic_sectors_df = pd.read_csv('raw_data/ISIC_SECTORS.csv')\n",
    "\n",
    "isic_sectors = {}\n",
    "\n",
    "for i, row in isic_sectors_df.iterrows():\n",
    "    \n",
    "    subs = [int(x) for x in row[1].split('–')]\n",
    "    if len(subs) > 1:\n",
    "        subs = np.arange(subs[0], subs[1] + 1)\n",
    "    subs = ['0' + str(x) if len(str(x)) < 2 else str(x) for x in subs]\n",
    "\n",
    "    for s in subs:\n",
    "        isic_sectors[s] = row[0]"
   ]
  },
  {
   "cell_type": "code",
   "execution_count": 27,
   "metadata": {},
   "outputs": [],
   "source": [
    "# from https://unstats.un.org/unsd/classifications/Econ/isic\n",
    "# specifically https://unstats.un.org/unsd/classifications/Econ/tables/ISIC/NAICS2012US-ISIC4/NAICS2012US-ISIC4.txt\n",
    "naics_isic_df = pd.read_csv('raw_data/NAICS_ISIC.csv', dtype={'NAICS2012Code': str, 'ISIC4Code': str})"
   ]
  },
  {
   "cell_type": "code",
   "execution_count": 28,
   "metadata": {},
   "outputs": [],
   "source": [
    "\n",
    "def naics_breakdown(naics_isic_df, digits=3):\n",
    "\n",
    "    naics_isic_df['ISICSec'] = naics_isic_df['ISIC4Code'].map(lambda x: isic_sectors[x[0:2]] )\n",
    "    naics_isic_df[f'NAICS_{digits}'] = naics_isic_df['NAICS2012Code'].map(lambda x: x[0:digits] if type(x) is str else None)\n",
    "    pd.set_option('display.max_rows', 200)\n",
    "\n",
    "    # inter_map shows match list\n",
    "    inter_map = naics_isic_df[[f'NAICS_{digits}', 'ISICSec', 'NAICS2012Code']].groupby([f'NAICS_{digits}', 'ISICSec']).agg({'count'})\n",
    "    inter_map['best_match'] = None\n",
    "\n",
    "    matches = []\n",
    "    for code in list(np.unique(naics_isic_df[f'NAICS_{digits}'].dropna())):\n",
    "        best_match = inter_map.loc[code][('NAICS2012Code','count')].map(\n",
    "            lambda x: x == max(inter_map.loc[code][('NAICS2012Code','count')])\n",
    "        )\n",
    "        for m in best_match: matches.append(m)\n",
    "\n",
    "    naics_isicsec = {}\n",
    "\n",
    "    for i in inter_map[matches].index:\n",
    "        if i[0] in naics_isicsec.keys():\n",
    "            naics_isicsec[i[0]].append(i[1])\n",
    "        else: naics_isicsec[i[0]] = [i[1]]\n",
    "\n",
    "    # arbitrarily picks first with tied number of sub sectors\n",
    "    for key, val in naics_isicsec.items():\n",
    "        naics_isicsec[key] = val[0]\n",
    "\n",
    "    return naics_isicsec"
   ]
  },
  {
   "cell_type": "code",
   "execution_count": 29,
   "metadata": {},
   "outputs": [],
   "source": [
    "naics_walk = {}\n",
    "for i in range(5): \n",
    "    naics_walk = { **naics_walk, **naics_breakdown(naics_isic_df, i)}\n",
    "\n",
    "naics_3_isicsec = naics_breakdown(naics_isic_df, 3)\n",
    "\n",
    "with open('naics_isic_map.json', 'w') as f:\n",
    "    f.write(json.dumps(naics_walk))"
   ]
  },
  {
   "attachments": {},
   "cell_type": "markdown",
   "metadata": {},
   "source": [
    "## Implementing VW Sectors to ISIC"
   ]
  },
  {
   "cell_type": "code",
   "execution_count": 30,
   "metadata": {},
   "outputs": [],
   "source": [
    "# compares to \"Replication Packet/Converting SIC to NAICS/SIC_NAICS_BEA_allsec.do\"\n",
    "# VW aggregated industries\n",
    "VW_groups = {\n",
    "    'Agriculture': [111,112,113,114,115], # excluded\n",
    "    'Mining': [212],\n",
    "    'Oil/Gas': [211], # excluded\n",
    "    'Mining Support': ['212'], # excluded\n",
    "    'Util': [22], # 221 doesn't exist in NAICS codes in asset expenditures but in VW mapping\n",
    "    'Const': [23],\n",
    "    'Wood': [321],\n",
    "    'Minerals': [327],\n",
    "    'Primary Metals': [331],\n",
    "    'Fabricated Metals': [332],\n",
    "    'Machinery': [333],\n",
    "    'Computers': [334],\n",
    "    'Electrical': [335],\n",
    "    'Vehicles': [3361,3362,3363],\n",
    "    'Transport': [3364,3365,3366,3367,3368,3369],\n",
    "    'Furniture': [337],\n",
    "    'Misc Mfg': [339],\n",
    "    'Food Mfg': [311,312],\n",
    "    'Textile': [313,314],\n",
    "    'Apparel': [315,316],\n",
    "    'Paper': [322],\n",
    "    'Printing': [323],\n",
    "    'Petroleum': [324],\n",
    "    'Chemical': [325],\n",
    "    'Plastics': [326],\n",
    "    'Wholesale Trade': [42],\n",
    "    'Retail Trade': [44,45],\n",
    "    'Transit/Warehouse': [48,49],\n",
    "    'Info': [51],\n",
    "    'Finance/Insurance': [52],\n",
    "    'Real Estate': [531],\n",
    "    'Rental': [532,533], # excluded\n",
    "    'Prof/Tech': [54],\n",
    "    'Mgmt': [55],\n",
    "    'Admin': [561,562], # just 56 in the VW mapping\n",
    "    'Educ': [61],\n",
    "    'Health': [62],\n",
    "    'Arts': [71],\n",
    "    'Accom': [721],\n",
    "    'Food Services': [722],\n",
    "    'Other Services': [81]\n",
    "}"
   ]
  },
  {
   "cell_type": "code",
   "execution_count": 31,
   "metadata": {},
   "outputs": [],
   "source": [
    "VW_isicsec = {}\n",
    "for key, vals in VW_groups.items():\n",
    "    VW_isicsec[key] = []\n",
    "    for v in vals:\n",
    "        code = str(v)\n",
    "        if len(code) == 3:\n",
    "            VW_isicsec[key].append(naics_3_isicsec[code])\n",
    "        elif len(code) == 2:\n",
    "            matches = pd.Series(naics_3_isicsec.keys())[pd.Series(naics_3_isicsec.keys()).map(lambda x: x[0:2]) == code]\n",
    "            for match in matches:\n",
    "                VW_isicsec[key].append(naics_3_isicsec[match])\n",
    "        elif len(code) == 4:\n",
    "            VW_isicsec[key].append(naics_3_isicsec[code[0:3]])\n",
    "    VW_isicsec[key] = list(np.unique(VW_isicsec[key]))"
   ]
  },
  {
   "cell_type": "code",
   "execution_count": 32,
   "metadata": {},
   "outputs": [],
   "source": [
    "isicsec_VW = {}\n",
    "for vw, sec in VW_isicsec.items():\n",
    "    for sec in sec:\n",
    "        if not sec in isicsec_VW.keys():\n",
    "            isicsec_VW[sec] = [vw]\n",
    "        else: isicsec_VW[sec].append(vw)"
   ]
  },
  {
   "cell_type": "code",
   "execution_count": 41,
   "metadata": {},
   "outputs": [],
   "source": [
    "with open('isic_vw.json', 'w') as f:\n",
    "    f.write(json.dumps(isicsec_VW))"
   ]
  },
  {
   "attachments": {},
   "cell_type": "markdown",
   "metadata": {},
   "source": [
    "## Implementing BEA to ISIC Sectors"
   ]
  },
  {
   "cell_type": "code",
   "execution_count": 34,
   "metadata": {},
   "outputs": [],
   "source": [
    "expenditure_data = './raw_data/assetInvestments.xlsx'"
   ]
  },
  {
   "cell_type": "code",
   "execution_count": 35,
   "metadata": {},
   "outputs": [
    {
     "name": "stdout",
     "output_type": "stream",
     "text": [
      "['3361', '3']\n",
      "['3364', '9']\n",
      "['44', '5']\n"
     ]
    }
   ],
   "source": [
    "readme = pd.read_excel(expenditure_data, header=14, converters={'BEA CODE': str, '2012 NAICS Codes': str})\n",
    "readme = readme[['BEA CODE', '2012 NAICS Codes']][readme['BEA CODE'].map(lambda x: not (type(x) is float or x == '--------') )]\n",
    "bea_naics_map = {}\n",
    "for i, row in readme.iterrows():\n",
    "    naics = row[1].split(',')\n",
    "    for n in naics:\n",
    "        if '-' in naics[0]:\n",
    "            temp = naics[0].split('-')\n",
    "            print(temp)\n",
    "            naics = [str(x) for x in np.arange(int(temp[0]),int(temp[0][:-1] + temp[1]) + 1)]\n",
    "    bea_naics_map[row[0]] = [n.strip() for n in naics]"
   ]
  },
  {
   "cell_type": "code",
   "execution_count": 36,
   "metadata": {},
   "outputs": [
    {
     "data": {
      "text/plain": [
       "{'110C': ['111', '112'],\n",
       " '113F': ['113', '114', '115'],\n",
       " '2110': ['211'],\n",
       " '2120': ['212'],\n",
       " '2130': ['213'],\n",
       " '2200': ['22'],\n",
       " '2300': ['23'],\n",
       " '3210': ['321'],\n",
       " '3270': ['327'],\n",
       " '3310': ['331'],\n",
       " '3320': ['332'],\n",
       " '3330': ['333'],\n",
       " '3340': ['334'],\n",
       " '3350': ['335'],\n",
       " '336M': ['3361', '3362', '3363'],\n",
       " '336O': ['3364', '3365', '3366', '3367', '3368', '3369'],\n",
       " '3370': ['337'],\n",
       " '338A': ['339'],\n",
       " '311A': ['311', '312'],\n",
       " '313T': ['313', '314'],\n",
       " '315A': ['315', '316'],\n",
       " '3220': ['322'],\n",
       " '3230': ['323'],\n",
       " '3240': ['324'],\n",
       " '3250': ['325'],\n",
       " '3260': ['326'],\n",
       " '4200': ['42'],\n",
       " '44RT': ['44', '45'],\n",
       " '4810': ['481'],\n",
       " '4820': ['482'],\n",
       " '4830': ['483'],\n",
       " '4840': ['484'],\n",
       " '4850': ['485'],\n",
       " '4860': ['486'],\n",
       " '487S': ['487', '488', '492'],\n",
       " '4930': ['493'],\n",
       " '5110': ['511'],\n",
       " '5120': ['512'],\n",
       " '5130': ['515', '517'],\n",
       " '5140': ['518', '519'],\n",
       " '5210': ['521'],\n",
       " '5220': ['522'],\n",
       " '5230': ['523'],\n",
       " '5240': ['524'],\n",
       " '5250': ['525'],\n",
       " '5310': ['531'],\n",
       " '5320': ['532', '533'],\n",
       " '5411': ['5411'],\n",
       " '5415': ['5415'],\n",
       " '5412': ['541 ex. 5411', '5415'],\n",
       " '5500': ['55'],\n",
       " '5610': ['561'],\n",
       " '5620': ['562'],\n",
       " '6100': ['61'],\n",
       " '6210': ['621'],\n",
       " '622H': ['622'],\n",
       " '6230': ['623'],\n",
       " '6240': ['624'],\n",
       " '711A': ['711', '712'],\n",
       " '7130': ['713'],\n",
       " '7210': ['721'],\n",
       " '7220': ['722'],\n",
       " '8100': ['81']}"
      ]
     },
     "metadata": {},
     "output_type": "display_data"
    }
   ],
   "source": [
    "display(bea_naics_map)"
   ]
  },
  {
   "cell_type": "code",
   "execution_count": 37,
   "metadata": {},
   "outputs": [
    {
     "name": "stdout",
     "output_type": "stream",
     "text": [
      "{'': 'C', '1': 'A', '2': 'F', '3': 'C', '4': 'G', '5': 'N', '6': 'Q', '7': 'R', '8': 'S', '9': 'O', '11': 'A', '21': 'B', '22': 'D', '23': 'F', '31': 'C', '32': 'C', '33': 'C', '42': 'G', '44': 'G', '45': 'G', '48': 'H', '49': 'H', '51': 'J', '52': 'K', '53': 'N', '54': 'M', '55': 'K', '56': 'N', '61': 'P', '62': 'Q', '71': 'R', '72': 'I', '81': 'S', '92': 'O', '111': 'A', '112': 'A', '113': 'A', '114': 'A', '115': 'A', '211': 'B', '212': 'B', '213': 'B', '221': 'D', '236': 'F', '237': 'F', '238': 'F', '311': 'C', '312': 'C', '313': 'C', '314': 'C', '315': 'C', '316': 'C', '321': 'C', '322': 'C', '323': 'C', '324': 'C', '325': 'C', '326': 'C', '327': 'C', '331': 'C', '332': 'C', '333': 'C', '334': 'C', '335': 'C', '336': 'C', '337': 'C', '339': 'C', '423': 'G', '424': 'G', '425': 'G', '441': 'G', '442': 'G', '443': 'G', '444': 'G', '445': 'G', '446': 'G', '447': 'G', '448': 'G', '451': 'G', '452': 'G', '453': 'G', '454': 'G', '481': 'H', '482': 'H', '483': 'H', '484': 'H', '485': 'H', '486': 'H', '487': 'H', '488': 'H', '491': 'H', '492': 'H', '493': 'H', '511': 'J', '512': 'J', '515': 'J', '517': 'J', '518': 'J', '519': 'J', '521': 'K', '522': 'K', '523': 'K', '524': 'K', '525': 'K', '531': 'L', '532': 'N', '533': 'N', '541': 'M', '551': 'K', '561': 'N', '562': 'E', '611': 'P', '621': 'Q', '622': 'Q', '623': 'Q', '624': 'Q', '711': 'R', '712': 'R', '713': 'R', '721': 'I', '722': 'I', '811': 'C', '812': 'S', '813': 'S', '814': 'T', '921': 'O', '922': 'O', '923': 'O', '924': 'O', '925': 'O', '926': 'O', '927': 'H', '928': 'O', '1111': 'A', '1112': 'A', '1113': 'A', '1114': 'A', '1119': 'A', '1121': 'A', '1122': 'A', '1123': 'A', '1124': 'A', '1125': 'A', '1129': 'A', '1131': 'A', '1132': 'A', '1133': 'A', '1141': 'A', '1142': 'A', '1151': 'A', '1152': 'A', '1153': 'A', '2111': 'B', '2121': 'B', '2122': 'B', '2123': 'B', '2131': 'B', '2211': 'D', '2212': 'D', '2213': 'E', '2361': 'F', '2362': 'F', '2371': 'F', '2372': 'F', '2373': 'F', '2379': 'F', '2381': 'F', '2382': 'F', '2383': 'F', '2389': 'F', '3111': 'C', '3112': 'C', '3113': 'C', '3114': 'C', '3115': 'C', '3116': 'C', '3117': 'C', '3118': 'C', '3119': 'C', '3121': 'C', '3122': 'C', '3131': 'C', '3132': 'C', '3133': 'C', '3141': 'C', '3149': 'C', '3151': 'C', '3152': 'C', '3159': 'C', '3161': 'C', '3162': 'C', '3169': 'C', '3211': 'C', '3212': 'C', '3219': 'C', '3221': 'C', '3222': 'C', '3231': 'C', '3241': 'C', '3251': 'C', '3252': 'C', '3253': 'C', '3254': 'C', '3255': 'C', '3256': 'C', '3259': 'C', '3261': 'C', '3262': 'C', '3271': 'C', '3272': 'C', '3273': 'C', '3274': 'C', '3279': 'C', '3311': 'C', '3312': 'C', '3313': 'C', '3314': 'C', '3315': 'C', '3321': 'C', '3322': 'C', '3323': 'C', '3324': 'C', '3325': 'C', '3326': 'C', '3327': 'C', '3328': 'C', '3329': 'C', '3331': 'C', '3332': 'C', '3333': 'C', '3334': 'C', '3335': 'C', '3336': 'C', '3339': 'C', '3341': 'C', '3342': 'C', '3343': 'C', '3344': 'C', '3345': 'C', '3346': 'C', '3351': 'C', '3352': 'C', '3353': 'C', '3359': 'C', '3361': 'C', '3362': 'C', '3363': 'C', '3364': 'C', '3365': 'C', '3366': 'C', '3369': 'C', '3371': 'C', '3372': 'C', '3379': 'C', '3391': 'C', '3399': 'C', '4231': 'G', '4232': 'G', '4233': 'G', '4234': 'G', '4235': 'G', '4236': 'G', '4237': 'G', '4238': 'G', '4239': 'G', '4241': 'G', '4242': 'G', '4243': 'G', '4244': 'G', '4245': 'G', '4246': 'G', '4247': 'G', '4248': 'G', '4249': 'G', '4251': 'G', '4411': 'G', '4412': 'G', '4413': 'G', '4421': 'G', '4422': 'G', '4431': 'G', '4441': 'G', '4442': 'G', '4451': 'G', '4452': 'G', '4453': 'G', '4461': 'G', '4471': 'G', '4481': 'G', '4482': 'G', '4483': 'G', '4511': 'G', '4512': 'G', '4521': 'G', '4529': 'G', '4531': 'G', '4532': 'G', '4533': 'G', '4539': 'G', '4541': 'G', '4542': 'G', '4543': 'G', '4811': 'H', '4812': 'H', '4821': 'H', '4831': 'H', '4832': 'H', '4841': 'H', '4842': 'H', '4851': 'H', '4852': 'H', '4853': 'H', '4854': 'H', '4855': 'H', '4859': 'H', '4861': 'H', '4862': 'H', '4869': 'H', '4871': 'H', '4872': 'H', '4879': 'H', '4881': 'H', '4882': 'H', '4883': 'H', '4884': 'H', '4885': 'H', '4889': 'H', '4911': 'H', '4921': 'H', '4922': 'H', '4931': 'H', '5111': 'J', '5112': 'J', '5121': 'J', '5122': 'J', '5151': 'J', '5152': 'J', '5171': 'J', '5172': 'J', '5174': 'J', '5179': 'J', '5182': 'J', '5191': 'J', '5211': 'K', '5221': 'K', '5222': 'K', '5223': 'K', '5231': 'K', '5232': 'K', '5239': 'K', '5241': 'K', '5242': 'K', '5251': 'K', '5259': 'K', '5311': 'L', '5312': 'L', '5313': 'L', '5321': 'N', '5322': 'N', '5323': 'N', '5324': 'N', '5331': 'N', '5411': 'M', '5412': 'M', '5413': 'M', '5414': 'M', '5415': 'J', '5416': 'M', '5417': 'M', '5418': 'M', '5419': 'M', '5511': 'K', '5611': 'N', '5612': 'N', '5613': 'N', '5614': 'N', '5615': 'N', '5616': 'N', '5617': 'N', '5619': 'N', '5621': 'E', '5622': 'E', '5629': 'E', '6111': 'P', '6112': 'P', '6113': 'P', '6114': 'P', '6115': 'P', '6116': 'P', '6117': 'P', '6211': 'Q', '6212': 'Q', '6213': 'Q', '6214': 'Q', '6215': 'Q', '6216': 'Q', '6219': 'Q', '6221': 'Q', '6222': 'Q', '6223': 'Q', '6231': 'Q', '6232': 'Q', '6233': 'Q', '6239': 'Q', '6241': 'Q', '6242': 'Q', '6243': 'Q', '6244': 'Q', '7111': 'R', '7112': 'R', '7113': 'R', '7114': 'M', '7115': 'C', '7121': 'R', '7131': 'R', '7132': 'R', '7139': 'R', '7211': 'I', '7212': 'I', '7213': 'I', '7223': 'I', '7224': 'I', '7225': 'I', '8111': 'G', '8112': 'C', '8113': 'C', '8114': 'S', '8121': 'S', '8122': 'S', '8123': 'S', '8129': 'S', '8131': 'S', '8132': 'S', '8133': 'S', '8134': 'S', '8139': 'S', '8141': 'T', '9211': 'O', '9221': 'O', '9231': 'O', '9241': 'O', '9251': 'O', '9261': 'O', '9271': 'H', '9281': 'O'}\n"
     ]
    }
   ],
   "source": [
    "with open('naics_isic_map.json', 'r') as f:\n",
    "    naics_isic = json.loads(f.read())\n",
    "\n",
    "# i can make a map to have 2,3,4 digits naics codes mapped in the same way i map 3 digits ones\n",
    "temp_map = {\n",
    "    # '22': 'D',\n",
    "    # '23': 'F',\n",
    "    # '42': 'G',\n",
    "    # '44': 'G',\n",
    "    # '45': 'G',\n",
    "    # '55': 'K',\n",
    "    # '61': 'P'\n",
    "}\n",
    "\n",
    "print(naics_isic)\n",
    "\n",
    "naics_isic = {**naics_isic, **temp_map}\n",
    "\n",
    "bea_isic = {}\n",
    "for key, val in bea_naics_map.items():\n",
    "    bea_isic[key] = np.unique([naics_isic[v[0:3]] for v in val])[0]\n",
    "\n",
    "with open('bea_isic_map.json', 'w') as f:\n",
    "    f.write(json.dumps(bea_isic))"
   ]
  },
  {
   "attachments": {},
   "cell_type": "markdown",
   "metadata": {},
   "source": [
    "## Implementing BEA to VW"
   ]
  },
  {
   "attachments": {},
   "cell_type": "markdown",
   "metadata": {},
   "source": [
    "### Inverting BEA to NAICS to NAICS to BEA"
   ]
  },
  {
   "cell_type": "code",
   "execution_count": 39,
   "metadata": {},
   "outputs": [
    {
     "data": {
      "text/plain": [
       "{'111': ['110C'],\n",
       " '112': ['110C'],\n",
       " '113': ['113F'],\n",
       " '114': ['113F'],\n",
       " '115': ['113F'],\n",
       " '211': ['2110'],\n",
       " '212': ['2120'],\n",
       " '213': ['2130'],\n",
       " '22': ['2200'],\n",
       " '23': ['2300'],\n",
       " '321': ['3210'],\n",
       " '327': ['3270'],\n",
       " '331': ['3310'],\n",
       " '332': ['3320'],\n",
       " '333': ['3330'],\n",
       " '334': ['3340'],\n",
       " '335': ['3350'],\n",
       " '3361': ['336M'],\n",
       " '3362': ['336M'],\n",
       " '3363': ['336M'],\n",
       " '3364': ['336O'],\n",
       " '3365': ['336O'],\n",
       " '3366': ['336O'],\n",
       " '3367': ['336O'],\n",
       " '3368': ['336O'],\n",
       " '3369': ['336O'],\n",
       " '337': ['3370'],\n",
       " '339': ['338A'],\n",
       " '311': ['311A'],\n",
       " '312': ['311A'],\n",
       " '313': ['313T'],\n",
       " '314': ['313T'],\n",
       " '315': ['315A'],\n",
       " '316': ['315A'],\n",
       " '322': ['3220'],\n",
       " '323': ['3230'],\n",
       " '324': ['3240'],\n",
       " '325': ['3250'],\n",
       " '326': ['3260'],\n",
       " '42': ['4200'],\n",
       " '44': ['44RT'],\n",
       " '45': ['44RT'],\n",
       " '481': ['4810'],\n",
       " '482': ['4820'],\n",
       " '483': ['4830'],\n",
       " '484': ['4840'],\n",
       " '485': ['4850'],\n",
       " '486': ['4860'],\n",
       " '487': ['487S'],\n",
       " '488': ['487S'],\n",
       " '492': ['487S'],\n",
       " '493': ['4930'],\n",
       " '511': ['5110'],\n",
       " '512': ['5120'],\n",
       " '515': ['5130'],\n",
       " '517': ['5130'],\n",
       " '518': ['5140'],\n",
       " '519': ['5140'],\n",
       " '521': ['5210'],\n",
       " '522': ['5220'],\n",
       " '523': ['5230'],\n",
       " '524': ['5240'],\n",
       " '525': ['5250'],\n",
       " '531': ['5310'],\n",
       " '532': ['5320'],\n",
       " '533': ['5320'],\n",
       " '5411': ['5411'],\n",
       " '5415': ['5415', '5412'],\n",
       " '541 ex. 5411': ['5412'],\n",
       " '55': ['5500'],\n",
       " '561': ['5610'],\n",
       " '562': ['5620'],\n",
       " '61': ['6100'],\n",
       " '621': ['6210'],\n",
       " '622': ['622H'],\n",
       " '623': ['6230'],\n",
       " '624': ['6240'],\n",
       " '711': ['711A'],\n",
       " '712': ['711A'],\n",
       " '713': ['7130'],\n",
       " '721': ['7210'],\n",
       " '722': ['7220'],\n",
       " '81': ['8100']}"
      ]
     },
     "execution_count": 39,
     "metadata": {},
     "output_type": "execute_result"
    }
   ],
   "source": [
    "naics_bea_map = {}\n",
    "for bea, naics_vals in bea_naics_map.items():\n",
    "    for ind in naics_vals:\n",
    "        if not ind in naics_bea_map.keys():\n",
    "            naics_bea_map[ind] = [bea]\n",
    "        else: naics_bea_map[ind].append(bea)\n",
    "naics_bea_map"
   ]
  },
  {
   "cell_type": "code",
   "execution_count": 40,
   "metadata": {},
   "outputs": [],
   "source": [
    "vw_bea_map = {}\n",
    "for vw, naics_vals in VW_groups.items():\n",
    "    \n",
    "    for naics in naics_vals:\n",
    "        try:\n",
    "            if vw in vw_bea_map.keys():\n",
    "                vw_bea_map[vw].append(naics_bea_map[str(naics)][0])\n",
    "            else: \n",
    "                vw_bea_map[vw] = [naics_bea_map[str(naics)][0]]\n",
    "        except:\n",
    "            matches = [key for key in naics_bea_map.keys() if str(naics) in key]\n",
    "            vw_bea_map[vw] = []\n",
    "            for m in matches:\n",
    "                for vals in naics_bea_map[m]:\n",
    "                    vw_bea_map[vw].append(vals)\n",
    "\n",
    "for key, val in vw_bea_map.items():\n",
    "    vw_bea_map[key] = list(np.unique(val))\n",
    "\n",
    "\n",
    "with open('vw_bea_map.json', 'w') as f:\n",
    "    f.write(json.dumps(vw_bea_map))"
   ]
  }
 ],
 "metadata": {
  "kernelspec": {
   "display_name": "edaEnv",
   "language": "python",
   "name": "python3"
  },
  "language_info": {
   "codemirror_mode": {
    "name": "ipython",
    "version": 3
   },
   "file_extension": ".py",
   "mimetype": "text/x-python",
   "name": "python",
   "nbconvert_exporter": "python",
   "pygments_lexer": "ipython3",
   "version": "3.11.2 (main, Feb 16 2023, 02:55:59) [Clang 14.0.0 (clang-1400.0.29.202)]"
  },
  "orig_nbformat": 4,
  "vscode": {
   "interpreter": {
    "hash": "1dd776bbc43a4dd90c9c5a3bd732b4c6becda676db002e09ab6e935fcd89cc20"
   }
  }
 },
 "nbformat": 4,
 "nbformat_minor": 2
}
